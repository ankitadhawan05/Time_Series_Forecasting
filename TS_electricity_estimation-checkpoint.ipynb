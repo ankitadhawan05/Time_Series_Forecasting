{
 "cells": [
  {
   "cell_type": "code",
   "execution_count": 1,
   "id": "5d47d33e",
   "metadata": {},
   "outputs": [],
   "source": [
    "import numpy as np\n",
    "import pandas as pd\n",
    "import seaborn as sns\n",
    "import matplotlib.pyplot as plt\n",
    "%matplotlib inline"
   ]
  },
  {
   "cell_type": "code",
   "execution_count": 2,
   "id": "df9d2855",
   "metadata": {},
   "outputs": [
    {
     "data": {
      "text/html": [
       "<div>\n",
       "<style scoped>\n",
       "    .dataframe tbody tr th:only-of-type {\n",
       "        vertical-align: middle;\n",
       "    }\n",
       "\n",
       "    .dataframe tbody tr th {\n",
       "        vertical-align: top;\n",
       "    }\n",
       "\n",
       "    .dataframe thead th {\n",
       "        text-align: right;\n",
       "    }\n",
       "</style>\n",
       "<table border=\"1\" class=\"dataframe\">\n",
       "  <thead>\n",
       "    <tr style=\"text-align: right;\">\n",
       "      <th></th>\n",
       "      <th>DATE</th>\n",
       "      <th>Electricty_Consumption_in_TW</th>\n",
       "    </tr>\n",
       "  </thead>\n",
       "  <tbody>\n",
       "    <tr>\n",
       "      <th>0</th>\n",
       "      <td>1/1/1973</td>\n",
       "      <td>35.9728</td>\n",
       "    </tr>\n",
       "    <tr>\n",
       "      <th>1</th>\n",
       "      <td>2/1/1973</td>\n",
       "      <td>36.1334</td>\n",
       "    </tr>\n",
       "    <tr>\n",
       "      <th>2</th>\n",
       "      <td>3/1/1973</td>\n",
       "      <td>35.0625</td>\n",
       "    </tr>\n",
       "    <tr>\n",
       "      <th>3</th>\n",
       "      <td>4/1/1973</td>\n",
       "      <td>33.8416</td>\n",
       "    </tr>\n",
       "    <tr>\n",
       "      <th>4</th>\n",
       "      <td>5/1/1973</td>\n",
       "      <td>33.5107</td>\n",
       "    </tr>\n",
       "  </tbody>\n",
       "</table>\n",
       "</div>"
      ],
      "text/plain": [
       "       DATE  Electricty_Consumption_in_TW\n",
       "0  1/1/1973                       35.9728\n",
       "1  2/1/1973                       36.1334\n",
       "2  3/1/1973                       35.0625\n",
       "3  4/1/1973                       33.8416\n",
       "4  5/1/1973                       33.5107"
      ]
     },
     "execution_count": 2,
     "metadata": {},
     "output_type": "execute_result"
    }
   ],
   "source": [
    "df=pd.read_csv(r'C:\\Users\\Ankita\\Desktop\\Documents\\Demand Estimation Practice Project TS\\Electricity_Consumption.csv')\n",
    "df.head()"
   ]
  },
  {
   "cell_type": "code",
   "execution_count": 3,
   "id": "6f4291b9",
   "metadata": {},
   "outputs": [],
   "source": [
    "df_marketting=pd.read_excel(r'C:\\Users\\Ankita\\Desktop\\Documents\\Sales_Marketing.xlsx')"
   ]
  },
  {
   "cell_type": "code",
   "execution_count": 4,
   "id": "de220a18",
   "metadata": {},
   "outputs": [
    {
     "data": {
      "text/html": [
       "<div>\n",
       "<style scoped>\n",
       "    .dataframe tbody tr th:only-of-type {\n",
       "        vertical-align: middle;\n",
       "    }\n",
       "\n",
       "    .dataframe tbody tr th {\n",
       "        vertical-align: top;\n",
       "    }\n",
       "\n",
       "    .dataframe thead th {\n",
       "        text-align: right;\n",
       "    }\n",
       "</style>\n",
       "<table border=\"1\" class=\"dataframe\">\n",
       "  <thead>\n",
       "    <tr style=\"text-align: right;\">\n",
       "      <th></th>\n",
       "      <th>Time Period</th>\n",
       "      <th>Sales</th>\n",
       "      <th>Marketing Expense</th>\n",
       "    </tr>\n",
       "  </thead>\n",
       "  <tbody>\n",
       "    <tr>\n",
       "      <th>43</th>\n",
       "      <td>2014-08-01</td>\n",
       "      <td>848</td>\n",
       "      <td>784.62</td>\n",
       "    </tr>\n",
       "    <tr>\n",
       "      <th>44</th>\n",
       "      <td>2014-09-01</td>\n",
       "      <td>640</td>\n",
       "      <td>718.98</td>\n",
       "    </tr>\n",
       "    <tr>\n",
       "      <th>45</th>\n",
       "      <td>2014-10-01</td>\n",
       "      <td>581</td>\n",
       "      <td>570.30</td>\n",
       "    </tr>\n",
       "    <tr>\n",
       "      <th>46</th>\n",
       "      <td>2014-11-01</td>\n",
       "      <td>519</td>\n",
       "      <td>527.60</td>\n",
       "    </tr>\n",
       "    <tr>\n",
       "      <th>47</th>\n",
       "      <td>2014-12-01</td>\n",
       "      <td>605</td>\n",
       "      <td>559.75</td>\n",
       "    </tr>\n",
       "  </tbody>\n",
       "</table>\n",
       "</div>"
      ],
      "text/plain": [
       "   Time Period  Sales  Marketing Expense\n",
       "43  2014-08-01    848             784.62\n",
       "44  2014-09-01    640             718.98\n",
       "45  2014-10-01    581             570.30\n",
       "46  2014-11-01    519             527.60\n",
       "47  2014-12-01    605             559.75"
      ]
     },
     "execution_count": 4,
     "metadata": {},
     "output_type": "execute_result"
    }
   ],
   "source": [
    "df_marketting.tail(5)"
   ]
  },
  {
   "cell_type": "code",
   "execution_count": 5,
   "id": "d382e75c",
   "metadata": {},
   "outputs": [
    {
     "name": "stdout",
     "output_type": "stream",
     "text": [
      "<class 'pandas.core.frame.DataFrame'>\n",
      "RangeIndex: 561 entries, 0 to 560\n",
      "Data columns (total 2 columns):\n",
      " #   Column                        Non-Null Count  Dtype  \n",
      "---  ------                        --------------  -----  \n",
      " 0   DATE                          561 non-null    object \n",
      " 1   Electricty_Consumption_in_TW  561 non-null    float64\n",
      "dtypes: float64(1), object(1)\n",
      "memory usage: 8.9+ KB\n"
     ]
    }
   ],
   "source": [
    "df.info()"
   ]
  },
  {
   "cell_type": "code",
   "execution_count": 6,
   "id": "814ebbd8",
   "metadata": {},
   "outputs": [
    {
     "name": "stdout",
     "output_type": "stream",
     "text": [
      "<class 'pandas.core.frame.DataFrame'>\n",
      "RangeIndex: 48 entries, 0 to 47\n",
      "Data columns (total 3 columns):\n",
      " #   Column             Non-Null Count  Dtype         \n",
      "---  ------             --------------  -----         \n",
      " 0   Time Period        48 non-null     datetime64[ns]\n",
      " 1   Sales              48 non-null     int64         \n",
      " 2   Marketing Expense  48 non-null     float64       \n",
      "dtypes: datetime64[ns](1), float64(1), int64(1)\n",
      "memory usage: 1.2 KB\n"
     ]
    }
   ],
   "source": [
    "df_marketting.info()"
   ]
  },
  {
   "cell_type": "code",
   "execution_count": 7,
   "id": "ec256c71",
   "metadata": {},
   "outputs": [],
   "source": [
    "df['DATE']= pd.to_datetime(df.DATE)"
   ]
  },
  {
   "cell_type": "code",
   "execution_count": 8,
   "id": "12a59dd7",
   "metadata": {},
   "outputs": [
    {
     "data": {
      "text/plain": [
       "DATE                            0\n",
       "Electricty_Consumption_in_TW    0\n",
       "dtype: int64"
      ]
     },
     "execution_count": 8,
     "metadata": {},
     "output_type": "execute_result"
    }
   ],
   "source": [
    "df.isnull().sum()"
   ]
  },
  {
   "cell_type": "code",
   "execution_count": 9,
   "id": "bc855303",
   "metadata": {},
   "outputs": [
    {
     "name": "stdout",
     "output_type": "stream",
     "text": [
      "<class 'pandas.core.frame.DataFrame'>\n",
      "RangeIndex: 561 entries, 0 to 560\n",
      "Data columns (total 2 columns):\n",
      " #   Column                        Non-Null Count  Dtype         \n",
      "---  ------                        --------------  -----         \n",
      " 0   DATE                          561 non-null    datetime64[ns]\n",
      " 1   Electricty_Consumption_in_TW  561 non-null    float64       \n",
      "dtypes: datetime64[ns](1), float64(1)\n",
      "memory usage: 8.9 KB\n"
     ]
    }
   ],
   "source": [
    "df.info()"
   ]
  },
  {
   "cell_type": "code",
   "execution_count": 10,
   "id": "4f84fe48",
   "metadata": {},
   "outputs": [],
   "source": [
    "df['Electricty_Consumption_in_TW'] = df['Electricty_Consumption_in_TW'].apply(np.int64)"
   ]
  },
  {
   "cell_type": "code",
   "execution_count": 11,
   "id": "684254d2",
   "metadata": {},
   "outputs": [],
   "source": [
    "df['Year']=df.DATE.dt.year\n",
    "df['Month']=df.DATE.dt.month\n",
    "df['Quarter']=df['DATE'].dt.quarter"
   ]
  },
  {
   "cell_type": "code",
   "execution_count": 12,
   "id": "2eaf35e0",
   "metadata": {},
   "outputs": [],
   "source": [
    "df.set_index(df.DATE, inplace=True)"
   ]
  },
  {
   "cell_type": "code",
   "execution_count": 126,
   "id": "d65b742b",
   "metadata": {},
   "outputs": [
    {
     "data": {
      "text/html": [
       "<div>\n",
       "<style scoped>\n",
       "    .dataframe tbody tr th:only-of-type {\n",
       "        vertical-align: middle;\n",
       "    }\n",
       "\n",
       "    .dataframe tbody tr th {\n",
       "        vertical-align: top;\n",
       "    }\n",
       "\n",
       "    .dataframe thead th {\n",
       "        text-align: right;\n",
       "    }\n",
       "</style>\n",
       "<table border=\"1\" class=\"dataframe\">\n",
       "  <thead>\n",
       "    <tr style=\"text-align: right;\">\n",
       "      <th></th>\n",
       "      <th>DATE</th>\n",
       "      <th>Electricty_Consumption_in_TW</th>\n",
       "      <th>Year</th>\n",
       "      <th>Month</th>\n",
       "      <th>Quarter</th>\n",
       "    </tr>\n",
       "    <tr>\n",
       "      <th>DATE</th>\n",
       "      <th></th>\n",
       "      <th></th>\n",
       "      <th></th>\n",
       "      <th></th>\n",
       "      <th></th>\n",
       "    </tr>\n",
       "  </thead>\n",
       "  <tbody>\n",
       "    <tr>\n",
       "      <th>2019-05-01</th>\n",
       "      <td>2019-05-01</td>\n",
       "      <td>97</td>\n",
       "      <td>2019</td>\n",
       "      <td>5</td>\n",
       "      <td>2</td>\n",
       "    </tr>\n",
       "    <tr>\n",
       "      <th>2019-06-01</th>\n",
       "      <td>2019-06-01</td>\n",
       "      <td>110</td>\n",
       "      <td>2019</td>\n",
       "      <td>6</td>\n",
       "      <td>2</td>\n",
       "    </tr>\n",
       "    <tr>\n",
       "      <th>2019-07-01</th>\n",
       "      <td>2019-07-01</td>\n",
       "      <td>122</td>\n",
       "      <td>2019</td>\n",
       "      <td>7</td>\n",
       "      <td>3</td>\n",
       "    </tr>\n",
       "    <tr>\n",
       "      <th>2019-08-01</th>\n",
       "      <td>2019-08-01</td>\n",
       "      <td>121</td>\n",
       "      <td>2019</td>\n",
       "      <td>8</td>\n",
       "      <td>3</td>\n",
       "    </tr>\n",
       "    <tr>\n",
       "      <th>2019-09-01</th>\n",
       "      <td>2019-09-01</td>\n",
       "      <td>109</td>\n",
       "      <td>2019</td>\n",
       "      <td>9</td>\n",
       "      <td>3</td>\n",
       "    </tr>\n",
       "  </tbody>\n",
       "</table>\n",
       "</div>"
      ],
      "text/plain": [
       "                 DATE  Electricty_Consumption_in_TW  Year  Month  Quarter\n",
       "DATE                                                                     \n",
       "2019-05-01 2019-05-01                            97  2019      5        2\n",
       "2019-06-01 2019-06-01                           110  2019      6        2\n",
       "2019-07-01 2019-07-01                           122  2019      7        3\n",
       "2019-08-01 2019-08-01                           121  2019      8        3\n",
       "2019-09-01 2019-09-01                           109  2019      9        3"
      ]
     },
     "execution_count": 126,
     "metadata": {},
     "output_type": "execute_result"
    }
   ],
   "source": [
    "df.tail()"
   ]
  },
  {
   "cell_type": "code",
   "execution_count": 18,
   "id": "72a09a47",
   "metadata": {},
   "outputs": [],
   "source": [
    "df_marketting.rename(columns={'Time Period':'Date'},inplace=True)"
   ]
  },
  {
   "cell_type": "code",
   "execution_count": 20,
   "id": "9df9d03d",
   "metadata": {},
   "outputs": [],
   "source": [
    "df_marketting.set_index(df_marketting.Date,inplace=True)"
   ]
  },
  {
   "cell_type": "code",
   "execution_count": 22,
   "id": "b3cc4824",
   "metadata": {},
   "outputs": [
    {
     "name": "stdout",
     "output_type": "stream",
     "text": [
      "<class 'pandas.core.frame.DataFrame'>\n",
      "DatetimeIndex: 48 entries, 2011-01-01 to 2014-12-01\n",
      "Data columns (total 3 columns):\n",
      " #   Column             Non-Null Count  Dtype         \n",
      "---  ------             --------------  -----         \n",
      " 0   Date               48 non-null     datetime64[ns]\n",
      " 1   Sales              48 non-null     int64         \n",
      " 2   Marketing Expense  48 non-null     float64       \n",
      "dtypes: datetime64[ns](1), float64(1), int64(1)\n",
      "memory usage: 1.5 KB\n"
     ]
    }
   ],
   "source": [
    "df_marketting.info()"
   ]
  },
  {
   "cell_type": "code",
   "execution_count": 23,
   "id": "eb1b86f8",
   "metadata": {},
   "outputs": [],
   "source": [
    "df_marketting['Year']=df_marketting.Date.dt.year\n",
    "df_marketting['Month']=df_marketting.Date.dt.month\n",
    "df_marketting['Quarter']=df_marketting['Date'].dt.quarter"
   ]
  },
  {
   "cell_type": "code",
   "execution_count": 24,
   "id": "13fcea22",
   "metadata": {},
   "outputs": [
    {
     "data": {
      "text/html": [
       "<div>\n",
       "<style scoped>\n",
       "    .dataframe tbody tr th:only-of-type {\n",
       "        vertical-align: middle;\n",
       "    }\n",
       "\n",
       "    .dataframe tbody tr th {\n",
       "        vertical-align: top;\n",
       "    }\n",
       "\n",
       "    .dataframe thead th {\n",
       "        text-align: right;\n",
       "    }\n",
       "</style>\n",
       "<table border=\"1\" class=\"dataframe\">\n",
       "  <thead>\n",
       "    <tr style=\"text-align: right;\">\n",
       "      <th></th>\n",
       "      <th>Date</th>\n",
       "      <th>Sales</th>\n",
       "      <th>Marketing Expense</th>\n",
       "      <th>Year</th>\n",
       "      <th>Month</th>\n",
       "      <th>Quarter</th>\n",
       "    </tr>\n",
       "    <tr>\n",
       "      <th>Date</th>\n",
       "      <th></th>\n",
       "      <th></th>\n",
       "      <th></th>\n",
       "      <th></th>\n",
       "      <th></th>\n",
       "      <th></th>\n",
       "    </tr>\n",
       "  </thead>\n",
       "  <tbody>\n",
       "    <tr>\n",
       "      <th>2011-01-01</th>\n",
       "      <td>2011-01-01</td>\n",
       "      <td>397</td>\n",
       "      <td>486.64</td>\n",
       "      <td>2011</td>\n",
       "      <td>1</td>\n",
       "      <td>1</td>\n",
       "    </tr>\n",
       "    <tr>\n",
       "      <th>2011-02-01</th>\n",
       "      <td>2011-02-01</td>\n",
       "      <td>400</td>\n",
       "      <td>501.80</td>\n",
       "      <td>2011</td>\n",
       "      <td>2</td>\n",
       "      <td>1</td>\n",
       "    </tr>\n",
       "    <tr>\n",
       "      <th>2011-03-01</th>\n",
       "      <td>2011-03-01</td>\n",
       "      <td>498</td>\n",
       "      <td>437.09</td>\n",
       "      <td>2011</td>\n",
       "      <td>3</td>\n",
       "      <td>1</td>\n",
       "    </tr>\n",
       "    <tr>\n",
       "      <th>2011-04-01</th>\n",
       "      <td>2011-04-01</td>\n",
       "      <td>536</td>\n",
       "      <td>565.16</td>\n",
       "      <td>2011</td>\n",
       "      <td>4</td>\n",
       "      <td>2</td>\n",
       "    </tr>\n",
       "    <tr>\n",
       "      <th>2011-05-01</th>\n",
       "      <td>2011-05-01</td>\n",
       "      <td>596</td>\n",
       "      <td>744.15</td>\n",
       "      <td>2011</td>\n",
       "      <td>5</td>\n",
       "      <td>2</td>\n",
       "    </tr>\n",
       "    <tr>\n",
       "      <th>2011-06-01</th>\n",
       "      <td>2011-06-01</td>\n",
       "      <td>591</td>\n",
       "      <td>548.74</td>\n",
       "      <td>2011</td>\n",
       "      <td>6</td>\n",
       "      <td>2</td>\n",
       "    </tr>\n",
       "    <tr>\n",
       "      <th>2011-07-01</th>\n",
       "      <td>2011-07-01</td>\n",
       "      <td>651</td>\n",
       "      <td>650.21</td>\n",
       "      <td>2011</td>\n",
       "      <td>7</td>\n",
       "      <td>3</td>\n",
       "    </tr>\n",
       "    <tr>\n",
       "      <th>2011-08-01</th>\n",
       "      <td>2011-08-01</td>\n",
       "      <td>654</td>\n",
       "      <td>777.51</td>\n",
       "      <td>2011</td>\n",
       "      <td>8</td>\n",
       "      <td>3</td>\n",
       "    </tr>\n",
       "    <tr>\n",
       "      <th>2011-09-01</th>\n",
       "      <td>2011-09-01</td>\n",
       "      <td>509</td>\n",
       "      <td>547.11</td>\n",
       "      <td>2011</td>\n",
       "      <td>9</td>\n",
       "      <td>3</td>\n",
       "    </tr>\n",
       "    <tr>\n",
       "      <th>2011-10-01</th>\n",
       "      <td>2011-10-01</td>\n",
       "      <td>437</td>\n",
       "      <td>382.81</td>\n",
       "      <td>2011</td>\n",
       "      <td>10</td>\n",
       "      <td>4</td>\n",
       "    </tr>\n",
       "    <tr>\n",
       "      <th>2011-11-01</th>\n",
       "      <td>2011-11-01</td>\n",
       "      <td>406</td>\n",
       "      <td>551.56</td>\n",
       "      <td>2011</td>\n",
       "      <td>11</td>\n",
       "      <td>4</td>\n",
       "    </tr>\n",
       "    <tr>\n",
       "      <th>2011-12-01</th>\n",
       "      <td>2011-12-01</td>\n",
       "      <td>470</td>\n",
       "      <td>401.69</td>\n",
       "      <td>2011</td>\n",
       "      <td>12</td>\n",
       "      <td>4</td>\n",
       "    </tr>\n",
       "    <tr>\n",
       "      <th>2012-01-01</th>\n",
       "      <td>2012-01-01</td>\n",
       "      <td>428</td>\n",
       "      <td>370.97</td>\n",
       "      <td>2012</td>\n",
       "      <td>1</td>\n",
       "      <td>1</td>\n",
       "    </tr>\n",
       "    <tr>\n",
       "      <th>2012-02-01</th>\n",
       "      <td>2012-02-01</td>\n",
       "      <td>423</td>\n",
       "      <td>318.39</td>\n",
       "      <td>2012</td>\n",
       "      <td>2</td>\n",
       "      <td>1</td>\n",
       "    </tr>\n",
       "    <tr>\n",
       "      <th>2012-03-01</th>\n",
       "      <td>2012-03-01</td>\n",
       "      <td>507</td>\n",
       "      <td>477.39</td>\n",
       "      <td>2012</td>\n",
       "      <td>3</td>\n",
       "      <td>1</td>\n",
       "    </tr>\n",
       "    <tr>\n",
       "      <th>2012-04-01</th>\n",
       "      <td>2012-04-01</td>\n",
       "      <td>536</td>\n",
       "      <td>418.66</td>\n",
       "      <td>2012</td>\n",
       "      <td>4</td>\n",
       "      <td>2</td>\n",
       "    </tr>\n",
       "    <tr>\n",
       "      <th>2012-05-01</th>\n",
       "      <td>2012-05-01</td>\n",
       "      <td>610</td>\n",
       "      <td>429.68</td>\n",
       "      <td>2012</td>\n",
       "      <td>5</td>\n",
       "      <td>2</td>\n",
       "    </tr>\n",
       "    <tr>\n",
       "      <th>2012-06-01</th>\n",
       "      <td>2012-06-01</td>\n",
       "      <td>609</td>\n",
       "      <td>713.24</td>\n",
       "      <td>2012</td>\n",
       "      <td>6</td>\n",
       "      <td>2</td>\n",
       "    </tr>\n",
       "    <tr>\n",
       "      <th>2012-07-01</th>\n",
       "      <td>2012-07-01</td>\n",
       "      <td>687</td>\n",
       "      <td>658.22</td>\n",
       "      <td>2012</td>\n",
       "      <td>7</td>\n",
       "      <td>3</td>\n",
       "    </tr>\n",
       "    <tr>\n",
       "      <th>2012-08-01</th>\n",
       "      <td>2012-08-01</td>\n",
       "      <td>707</td>\n",
       "      <td>800.52</td>\n",
       "      <td>2012</td>\n",
       "      <td>8</td>\n",
       "      <td>3</td>\n",
       "    </tr>\n",
       "    <tr>\n",
       "      <th>2012-09-01</th>\n",
       "      <td>2012-09-01</td>\n",
       "      <td>509</td>\n",
       "      <td>640.45</td>\n",
       "      <td>2012</td>\n",
       "      <td>9</td>\n",
       "      <td>3</td>\n",
       "    </tr>\n",
       "    <tr>\n",
       "      <th>2012-10-01</th>\n",
       "      <td>2012-10-01</td>\n",
       "      <td>452</td>\n",
       "      <td>606.49</td>\n",
       "      <td>2012</td>\n",
       "      <td>10</td>\n",
       "      <td>4</td>\n",
       "    </tr>\n",
       "    <tr>\n",
       "      <th>2012-11-01</th>\n",
       "      <td>2012-11-01</td>\n",
       "      <td>412</td>\n",
       "      <td>426.88</td>\n",
       "      <td>2012</td>\n",
       "      <td>11</td>\n",
       "      <td>4</td>\n",
       "    </tr>\n",
       "    <tr>\n",
       "      <th>2012-12-01</th>\n",
       "      <td>2012-12-01</td>\n",
       "      <td>472</td>\n",
       "      <td>513.48</td>\n",
       "      <td>2012</td>\n",
       "      <td>12</td>\n",
       "      <td>4</td>\n",
       "    </tr>\n",
       "    <tr>\n",
       "      <th>2013-01-01</th>\n",
       "      <td>2013-01-01</td>\n",
       "      <td>454</td>\n",
       "      <td>300.29</td>\n",
       "      <td>2013</td>\n",
       "      <td>1</td>\n",
       "      <td>1</td>\n",
       "    </tr>\n",
       "    <tr>\n",
       "      <th>2013-02-01</th>\n",
       "      <td>2013-02-01</td>\n",
       "      <td>455</td>\n",
       "      <td>330.84</td>\n",
       "      <td>2013</td>\n",
       "      <td>2</td>\n",
       "      <td>1</td>\n",
       "    </tr>\n",
       "    <tr>\n",
       "      <th>2013-03-01</th>\n",
       "      <td>2013-03-01</td>\n",
       "      <td>568</td>\n",
       "      <td>444.04</td>\n",
       "      <td>2013</td>\n",
       "      <td>3</td>\n",
       "      <td>1</td>\n",
       "    </tr>\n",
       "    <tr>\n",
       "      <th>2013-04-01</th>\n",
       "      <td>2013-04-01</td>\n",
       "      <td>610</td>\n",
       "      <td>628.82</td>\n",
       "      <td>2013</td>\n",
       "      <td>4</td>\n",
       "      <td>2</td>\n",
       "    </tr>\n",
       "    <tr>\n",
       "      <th>2013-05-01</th>\n",
       "      <td>2013-05-01</td>\n",
       "      <td>706</td>\n",
       "      <td>620.36</td>\n",
       "      <td>2013</td>\n",
       "      <td>5</td>\n",
       "      <td>2</td>\n",
       "    </tr>\n",
       "    <tr>\n",
       "      <th>2013-06-01</th>\n",
       "      <td>2013-06-01</td>\n",
       "      <td>661</td>\n",
       "      <td>682.60</td>\n",
       "      <td>2013</td>\n",
       "      <td>6</td>\n",
       "      <td>2</td>\n",
       "    </tr>\n",
       "    <tr>\n",
       "      <th>2013-07-01</th>\n",
       "      <td>2013-07-01</td>\n",
       "      <td>767</td>\n",
       "      <td>684.64</td>\n",
       "      <td>2013</td>\n",
       "      <td>7</td>\n",
       "      <td>3</td>\n",
       "    </tr>\n",
       "    <tr>\n",
       "      <th>2013-08-01</th>\n",
       "      <td>2013-08-01</td>\n",
       "      <td>783</td>\n",
       "      <td>748.47</td>\n",
       "      <td>2013</td>\n",
       "      <td>8</td>\n",
       "      <td>3</td>\n",
       "    </tr>\n",
       "    <tr>\n",
       "      <th>2013-09-01</th>\n",
       "      <td>2013-09-01</td>\n",
       "      <td>583</td>\n",
       "      <td>668.46</td>\n",
       "      <td>2013</td>\n",
       "      <td>9</td>\n",
       "      <td>3</td>\n",
       "    </tr>\n",
       "    <tr>\n",
       "      <th>2013-10-01</th>\n",
       "      <td>2013-10-01</td>\n",
       "      <td>513</td>\n",
       "      <td>499.31</td>\n",
       "      <td>2013</td>\n",
       "      <td>10</td>\n",
       "      <td>4</td>\n",
       "    </tr>\n",
       "    <tr>\n",
       "      <th>2013-11-01</th>\n",
       "      <td>2013-11-01</td>\n",
       "      <td>481</td>\n",
       "      <td>401.92</td>\n",
       "      <td>2013</td>\n",
       "      <td>11</td>\n",
       "      <td>4</td>\n",
       "    </tr>\n",
       "    <tr>\n",
       "      <th>2013-12-01</th>\n",
       "      <td>2013-12-01</td>\n",
       "      <td>567</td>\n",
       "      <td>605.06</td>\n",
       "      <td>2013</td>\n",
       "      <td>12</td>\n",
       "      <td>4</td>\n",
       "    </tr>\n",
       "    <tr>\n",
       "      <th>2014-01-01</th>\n",
       "      <td>2014-01-01</td>\n",
       "      <td>525</td>\n",
       "      <td>429.73</td>\n",
       "      <td>2014</td>\n",
       "      <td>1</td>\n",
       "      <td>1</td>\n",
       "    </tr>\n",
       "    <tr>\n",
       "      <th>2014-02-01</th>\n",
       "      <td>2014-02-01</td>\n",
       "      <td>520</td>\n",
       "      <td>602.86</td>\n",
       "      <td>2014</td>\n",
       "      <td>2</td>\n",
       "      <td>1</td>\n",
       "    </tr>\n",
       "    <tr>\n",
       "      <th>2014-03-01</th>\n",
       "      <td>2014-03-01</td>\n",
       "      <td>587</td>\n",
       "      <td>596.15</td>\n",
       "      <td>2014</td>\n",
       "      <td>3</td>\n",
       "      <td>1</td>\n",
       "    </tr>\n",
       "    <tr>\n",
       "      <th>2014-04-01</th>\n",
       "      <td>2014-04-01</td>\n",
       "      <td>710</td>\n",
       "      <td>619.39</td>\n",
       "      <td>2014</td>\n",
       "      <td>4</td>\n",
       "      <td>2</td>\n",
       "    </tr>\n",
       "    <tr>\n",
       "      <th>2014-05-01</th>\n",
       "      <td>2014-05-01</td>\n",
       "      <td>793</td>\n",
       "      <td>758.31</td>\n",
       "      <td>2014</td>\n",
       "      <td>5</td>\n",
       "      <td>2</td>\n",
       "    </tr>\n",
       "    <tr>\n",
       "      <th>2014-06-01</th>\n",
       "      <td>2014-06-01</td>\n",
       "      <td>749</td>\n",
       "      <td>980.16</td>\n",
       "      <td>2014</td>\n",
       "      <td>6</td>\n",
       "      <td>2</td>\n",
       "    </tr>\n",
       "    <tr>\n",
       "      <th>2014-07-01</th>\n",
       "      <td>2014-07-01</td>\n",
       "      <td>871</td>\n",
       "      <td>905.10</td>\n",
       "      <td>2014</td>\n",
       "      <td>7</td>\n",
       "      <td>3</td>\n",
       "    </tr>\n",
       "    <tr>\n",
       "      <th>2014-08-01</th>\n",
       "      <td>2014-08-01</td>\n",
       "      <td>848</td>\n",
       "      <td>784.62</td>\n",
       "      <td>2014</td>\n",
       "      <td>8</td>\n",
       "      <td>3</td>\n",
       "    </tr>\n",
       "    <tr>\n",
       "      <th>2014-09-01</th>\n",
       "      <td>2014-09-01</td>\n",
       "      <td>640</td>\n",
       "      <td>718.98</td>\n",
       "      <td>2014</td>\n",
       "      <td>9</td>\n",
       "      <td>3</td>\n",
       "    </tr>\n",
       "    <tr>\n",
       "      <th>2014-10-01</th>\n",
       "      <td>2014-10-01</td>\n",
       "      <td>581</td>\n",
       "      <td>570.30</td>\n",
       "      <td>2014</td>\n",
       "      <td>10</td>\n",
       "      <td>4</td>\n",
       "    </tr>\n",
       "    <tr>\n",
       "      <th>2014-11-01</th>\n",
       "      <td>2014-11-01</td>\n",
       "      <td>519</td>\n",
       "      <td>527.60</td>\n",
       "      <td>2014</td>\n",
       "      <td>11</td>\n",
       "      <td>4</td>\n",
       "    </tr>\n",
       "    <tr>\n",
       "      <th>2014-12-01</th>\n",
       "      <td>2014-12-01</td>\n",
       "      <td>605</td>\n",
       "      <td>559.75</td>\n",
       "      <td>2014</td>\n",
       "      <td>12</td>\n",
       "      <td>4</td>\n",
       "    </tr>\n",
       "  </tbody>\n",
       "</table>\n",
       "</div>"
      ],
      "text/plain": [
       "                 Date  Sales  Marketing Expense  Year  Month  Quarter\n",
       "Date                                                                 \n",
       "2011-01-01 2011-01-01    397             486.64  2011      1        1\n",
       "2011-02-01 2011-02-01    400             501.80  2011      2        1\n",
       "2011-03-01 2011-03-01    498             437.09  2011      3        1\n",
       "2011-04-01 2011-04-01    536             565.16  2011      4        2\n",
       "2011-05-01 2011-05-01    596             744.15  2011      5        2\n",
       "2011-06-01 2011-06-01    591             548.74  2011      6        2\n",
       "2011-07-01 2011-07-01    651             650.21  2011      7        3\n",
       "2011-08-01 2011-08-01    654             777.51  2011      8        3\n",
       "2011-09-01 2011-09-01    509             547.11  2011      9        3\n",
       "2011-10-01 2011-10-01    437             382.81  2011     10        4\n",
       "2011-11-01 2011-11-01    406             551.56  2011     11        4\n",
       "2011-12-01 2011-12-01    470             401.69  2011     12        4\n",
       "2012-01-01 2012-01-01    428             370.97  2012      1        1\n",
       "2012-02-01 2012-02-01    423             318.39  2012      2        1\n",
       "2012-03-01 2012-03-01    507             477.39  2012      3        1\n",
       "2012-04-01 2012-04-01    536             418.66  2012      4        2\n",
       "2012-05-01 2012-05-01    610             429.68  2012      5        2\n",
       "2012-06-01 2012-06-01    609             713.24  2012      6        2\n",
       "2012-07-01 2012-07-01    687             658.22  2012      7        3\n",
       "2012-08-01 2012-08-01    707             800.52  2012      8        3\n",
       "2012-09-01 2012-09-01    509             640.45  2012      9        3\n",
       "2012-10-01 2012-10-01    452             606.49  2012     10        4\n",
       "2012-11-01 2012-11-01    412             426.88  2012     11        4\n",
       "2012-12-01 2012-12-01    472             513.48  2012     12        4\n",
       "2013-01-01 2013-01-01    454             300.29  2013      1        1\n",
       "2013-02-01 2013-02-01    455             330.84  2013      2        1\n",
       "2013-03-01 2013-03-01    568             444.04  2013      3        1\n",
       "2013-04-01 2013-04-01    610             628.82  2013      4        2\n",
       "2013-05-01 2013-05-01    706             620.36  2013      5        2\n",
       "2013-06-01 2013-06-01    661             682.60  2013      6        2\n",
       "2013-07-01 2013-07-01    767             684.64  2013      7        3\n",
       "2013-08-01 2013-08-01    783             748.47  2013      8        3\n",
       "2013-09-01 2013-09-01    583             668.46  2013      9        3\n",
       "2013-10-01 2013-10-01    513             499.31  2013     10        4\n",
       "2013-11-01 2013-11-01    481             401.92  2013     11        4\n",
       "2013-12-01 2013-12-01    567             605.06  2013     12        4\n",
       "2014-01-01 2014-01-01    525             429.73  2014      1        1\n",
       "2014-02-01 2014-02-01    520             602.86  2014      2        1\n",
       "2014-03-01 2014-03-01    587             596.15  2014      3        1\n",
       "2014-04-01 2014-04-01    710             619.39  2014      4        2\n",
       "2014-05-01 2014-05-01    793             758.31  2014      5        2\n",
       "2014-06-01 2014-06-01    749             980.16  2014      6        2\n",
       "2014-07-01 2014-07-01    871             905.10  2014      7        3\n",
       "2014-08-01 2014-08-01    848             784.62  2014      8        3\n",
       "2014-09-01 2014-09-01    640             718.98  2014      9        3\n",
       "2014-10-01 2014-10-01    581             570.30  2014     10        4\n",
       "2014-11-01 2014-11-01    519             527.60  2014     11        4\n",
       "2014-12-01 2014-12-01    605             559.75  2014     12        4"
      ]
     },
     "execution_count": 24,
     "metadata": {},
     "output_type": "execute_result"
    }
   ],
   "source": [
    "df_marketting"
   ]
  },
  {
   "cell_type": "code",
   "execution_count": 30,
   "id": "e69ebf74",
   "metadata": {},
   "outputs": [
    {
     "name": "stdout",
     "output_type": "stream",
     "text": [
      "<class 'pandas.core.frame.DataFrame'>\n",
      "DatetimeIndex: 561 entries, 1973-01-01 to 2019-09-01\n",
      "Data columns (total 5 columns):\n",
      " #   Column                        Non-Null Count  Dtype         \n",
      "---  ------                        --------------  -----         \n",
      " 0   DATE                          561 non-null    datetime64[ns]\n",
      " 1   Electricty_Consumption_in_TW  561 non-null    int64         \n",
      " 2   Year                          561 non-null    int64         \n",
      " 3   Month                         561 non-null    int64         \n",
      " 4   Quarter                       561 non-null    int64         \n",
      "dtypes: datetime64[ns](1), int64(4)\n",
      "memory usage: 26.3 KB\n"
     ]
    }
   ],
   "source": [
    "df.info()"
   ]
  },
  {
   "cell_type": "code",
   "execution_count": 25,
   "id": "a2ef89b3",
   "metadata": {},
   "outputs": [],
   "source": [
    "ts=df.Electricty_Consumption_in_TW"
   ]
  },
  {
   "cell_type": "code",
   "execution_count": 26,
   "id": "8b3c23a4",
   "metadata": {},
   "outputs": [
    {
     "data": {
      "text/plain": [
       "<AxesSubplot:xlabel='DATE'>"
      ]
     },
     "execution_count": 26,
     "metadata": {},
     "output_type": "execute_result"
    },
    {
     "data": {
      "image/png": "[encoded data removed]",
      "text/plain": [
       "<Figure size 432x288 with 1 Axes>"
      ]
     },
     "metadata": {
      "needs_background": "light"
     },
     "output_type": "display_data"
    }
   ],
   "source": [
    "ts.plot()"
   ]
  },
  {
   "cell_type": "code",
   "execution_count": 27,
   "id": "30dfa4ea",
   "metadata": {},
   "outputs": [],
   "source": [
    "from statsmodels.tsa.seasonal import seasonal_decompose"
   ]
  },
  {
   "cell_type": "code",
   "execution_count": 28,
   "id": "03155d21",
   "metadata": {},
   "outputs": [],
   "source": [
    "#decom = seasonal_decompose(ts, model='multiplicative')\n",
    "decom = seasonal_decompose(ts, model='additive')"
   ]
  },
  {
   "cell_type": "code",
   "execution_count": 29,
   "id": "b452f897",
   "metadata": {},
   "outputs": [
    {
     "data": {
      "image/png": "[encoded data removed]",
      "text/plain": [
       "<Figure size 432x288 with 4 Axes>"
      ]
     },
     "execution_count": 29,
     "metadata": {},
     "output_type": "execute_result"
    },
    {
     "data": {
      "image/png": "[encoded data removed]",
      "text/plain": [
       "<Figure size 432x288 with 4 Axes>"
      ]
     },
     "metadata": {
      "needs_background": "light"
     },
     "output_type": "display_data"
    }
   ],
   "source": [
    "decom.plot()"
   ]
  },
  {
   "cell_type": "code",
   "execution_count": 30,
   "id": "699054e6",
   "metadata": {},
   "outputs": [
    {
     "data": {
      "text/html": [
       "<div>\n",
       "<style scoped>\n",
       "    .dataframe tbody tr th:only-of-type {\n",
       "        vertical-align: middle;\n",
       "    }\n",
       "\n",
       "    .dataframe tbody tr th {\n",
       "        vertical-align: top;\n",
       "    }\n",
       "\n",
       "    .dataframe thead th {\n",
       "        text-align: right;\n",
       "    }\n",
       "</style>\n",
       "<table border=\"1\" class=\"dataframe\">\n",
       "  <thead>\n",
       "    <tr style=\"text-align: right;\">\n",
       "      <th></th>\n",
       "      <th>Electricty_Consumption_in_TW</th>\n",
       "      <th>trend</th>\n",
       "      <th>seasonal</th>\n",
       "      <th>resid</th>\n",
       "    </tr>\n",
       "    <tr>\n",
       "      <th>DATE</th>\n",
       "      <th></th>\n",
       "      <th></th>\n",
       "      <th></th>\n",
       "      <th></th>\n",
       "    </tr>\n",
       "  </thead>\n",
       "  <tbody>\n",
       "    <tr>\n",
       "      <th>1973-01-01</th>\n",
       "      <td>35.0</td>\n",
       "      <td>NaN</td>\n",
       "      <td>4.090273</td>\n",
       "      <td>NaN</td>\n",
       "    </tr>\n",
       "    <tr>\n",
       "      <th>1973-02-01</th>\n",
       "      <td>36.0</td>\n",
       "      <td>NaN</td>\n",
       "      <td>-0.709546</td>\n",
       "      <td>NaN</td>\n",
       "    </tr>\n",
       "    <tr>\n",
       "      <th>1973-03-01</th>\n",
       "      <td>35.0</td>\n",
       "      <td>NaN</td>\n",
       "      <td>-4.474945</td>\n",
       "      <td>NaN</td>\n",
       "    </tr>\n",
       "    <tr>\n",
       "      <th>1973-04-01</th>\n",
       "      <td>33.0</td>\n",
       "      <td>NaN</td>\n",
       "      <td>-8.671140</td>\n",
       "      <td>NaN</td>\n",
       "    </tr>\n",
       "    <tr>\n",
       "      <th>1973-05-01</th>\n",
       "      <td>33.0</td>\n",
       "      <td>NaN</td>\n",
       "      <td>-6.018363</td>\n",
       "      <td>NaN</td>\n",
       "    </tr>\n",
       "    <tr>\n",
       "      <th>1973-06-01</th>\n",
       "      <td>36.0</td>\n",
       "      <td>NaN</td>\n",
       "      <td>2.962193</td>\n",
       "      <td>NaN</td>\n",
       "    </tr>\n",
       "    <tr>\n",
       "      <th>1973-07-01</th>\n",
       "      <td>39.0</td>\n",
       "      <td>36.875000</td>\n",
       "      <td>10.279584</td>\n",
       "      <td>-8.154584</td>\n",
       "    </tr>\n",
       "    <tr>\n",
       "      <th>1973-08-01</th>\n",
       "      <td>41.0</td>\n",
       "      <td>37.208333</td>\n",
       "      <td>10.894621</td>\n",
       "      <td>-7.102954</td>\n",
       "    </tr>\n",
       "    <tr>\n",
       "      <th>1973-09-01</th>\n",
       "      <td>40.0</td>\n",
       "      <td>37.416667</td>\n",
       "      <td>2.852048</td>\n",
       "      <td>-0.268715</td>\n",
       "    </tr>\n",
       "    <tr>\n",
       "      <th>1973-10-01</th>\n",
       "      <td>37.0</td>\n",
       "      <td>37.625000</td>\n",
       "      <td>-5.185995</td>\n",
       "      <td>4.560995</td>\n",
       "    </tr>\n",
       "    <tr>\n",
       "      <th>1973-11-01</th>\n",
       "      <td>37.0</td>\n",
       "      <td>37.875000</td>\n",
       "      <td>-6.142517</td>\n",
       "      <td>5.267517</td>\n",
       "    </tr>\n",
       "    <tr>\n",
       "      <th>1973-12-01</th>\n",
       "      <td>38.0</td>\n",
       "      <td>38.166667</td>\n",
       "      <td>0.123787</td>\n",
       "      <td>-0.290454</td>\n",
       "    </tr>\n",
       "  </tbody>\n",
       "</table>\n",
       "</div>"
      ],
      "text/plain": [
       "            Electricty_Consumption_in_TW      trend   seasonal     resid\n",
       "DATE                                                                    \n",
       "1973-01-01                          35.0        NaN   4.090273       NaN\n",
       "1973-02-01                          36.0        NaN  -0.709546       NaN\n",
       "1973-03-01                          35.0        NaN  -4.474945       NaN\n",
       "1973-04-01                          33.0        NaN  -8.671140       NaN\n",
       "1973-05-01                          33.0        NaN  -6.018363       NaN\n",
       "1973-06-01                          36.0        NaN   2.962193       NaN\n",
       "1973-07-01                          39.0  36.875000  10.279584 -8.154584\n",
       "1973-08-01                          41.0  37.208333  10.894621 -7.102954\n",
       "1973-09-01                          40.0  37.416667   2.852048 -0.268715\n",
       "1973-10-01                          37.0  37.625000  -5.185995  4.560995\n",
       "1973-11-01                          37.0  37.875000  -6.142517  5.267517\n",
       "1973-12-01                          38.0  38.166667   0.123787 -0.290454"
      ]
     },
     "execution_count": 30,
     "metadata": {},
     "output_type": "execute_result"
    }
   ],
   "source": [
    "pd.concat([decom.observed, decom.trend, decom.seasonal, decom.resid], axis=1).head(12)"
   ]
  },
  {
   "cell_type": "code",
   "execution_count": 31,
   "id": "ac724edd",
   "metadata": {},
   "outputs": [],
   "source": [
    "import statsmodels.tsa.api as smt"
   ]
  },
  {
   "cell_type": "code",
   "execution_count": 32,
   "id": "0da06105",
   "metadata": {},
   "outputs": [
    {
     "data": {
      "text/plain": [
       "(-1.7622173100608685,\n",
       " 0.3993744257730658,\n",
       " 15,\n",
       " 545,\n",
       " {'1%': -3.442405720052601,\n",
       "  '5%': -2.866857804790472,\n",
       "  '10%': -2.5696022094099824},\n",
       " 2309.920787930181)"
      ]
     },
     "execution_count": 32,
     "metadata": {},
     "output_type": "execute_result"
    }
   ],
   "source": [
    "#Is the series stationary?\n",
    "\n",
    "# Perform Dickey-Fuller test:\n",
    "from statsmodels.tsa.stattools import adfuller\n",
    "adfuller(ts)   #p-value: 0.41   , since p-value is high, the series(ts) is not stationary"
   ]
  },
  {
   "cell_type": "code",
   "execution_count": 72,
   "id": "9a73c26c",
   "metadata": {},
   "outputs": [],
   "source": [
    "ts_ln = np.log(ts)"
   ]
  },
  {
   "cell_type": "code",
   "execution_count": 73,
   "id": "f03082a8",
   "metadata": {},
   "outputs": [
    {
     "data": {
      "text/plain": [
       "(-3.0217616871294584,\n",
       " 0.03291150641973051,\n",
       " 15,\n",
       " 545,\n",
       " {'1%': -3.442405720052601,\n",
       "  '5%': -2.866857804790472,\n",
       "  '10%': -2.5696022094099824},\n",
       " -2472.2735035134338)"
      ]
     },
     "execution_count": 73,
     "metadata": {},
     "output_type": "execute_result"
    }
   ],
   "source": [
    "adfuller(ts_ln)  # p-value is lower a little than 0.05, so the series is stationary"
   ]
  },
  {
   "cell_type": "code",
   "execution_count": 69,
   "id": "9d6a37b2",
   "metadata": {},
   "outputs": [],
   "source": [
    "ts_diff = ts.diff().dropna()"
   ]
  },
  {
   "cell_type": "code",
   "execution_count": 70,
   "id": "b6716d10",
   "metadata": {},
   "outputs": [
    {
     "data": {
      "text/plain": [
       "(-8.043230948847507,\n",
       " 1.8232432466776893e-12,\n",
       " 14,\n",
       " 545,\n",
       " {'1%': -3.442405720052601,\n",
       "  '5%': -2.866857804790472,\n",
       "  '10%': -2.5696022094099824},\n",
       " 2307.141100485835)"
      ]
     },
     "execution_count": 70,
     "metadata": {},
     "output_type": "execute_result"
    }
   ],
   "source": [
    "adfuller(ts_diff )   # P value is really low, series is  stationary"
   ]
  },
  {
   "cell_type": "code",
   "execution_count": 74,
   "id": "8441bcb6",
   "metadata": {},
   "outputs": [],
   "source": [
    "ts_ln_diff= np.log(ts).diff().dropna()"
   ]
  },
  {
   "cell_type": "code",
   "execution_count": 75,
   "id": "874bee90",
   "metadata": {},
   "outputs": [
    {
     "data": {
      "text/plain": [
       "(-6.944768278368234,\n",
       " 1.0037834707805489e-09,\n",
       " 14,\n",
       " 545,\n",
       " {'1%': -3.442405720052601,\n",
       "  '5%': -2.866857804790472,\n",
       "  '10%': -2.5696022094099824},\n",
       " -2461.8576237300967)"
      ]
     },
     "execution_count": 75,
     "metadata": {},
     "output_type": "execute_result"
    }
   ],
   "source": [
    "adfuller(ts_ln_diff) "
   ]
  },
  {
   "cell_type": "code",
   "execution_count": 37,
   "id": "5dda8134",
   "metadata": {},
   "outputs": [
    {
     "data": {
      "text/plain": [
       "<AxesSubplot:xlabel='DATE'>"
      ]
     },
     "execution_count": 37,
     "metadata": {},
     "output_type": "execute_result"
    },
    {
     "data": {
      "image/png": "[encoded data removed]",
      "text/plain": [
       "<Figure size 432x288 with 1 Axes>"
      ]
     },
     "metadata": {
      "needs_background": "light"
     },
     "output_type": "display_data"
    }
   ],
   "source": [
    "# Moving average\n",
    "\n",
    "ts.rolling(window=12).mean().plot()"
   ]
  },
  {
   "cell_type": "code",
   "execution_count": 38,
   "id": "64956263",
   "metadata": {},
   "outputs": [
    {
     "data": {
      "text/plain": [
       "<AxesSubplot:xlabel='DATE'>"
      ]
     },
     "execution_count": 38,
     "metadata": {},
     "output_type": "execute_result"
    },
    {
     "data": {
      "image/png": "[encoded data removed]",
      "text/plain": [
       "<Figure size 432x288 with 1 Axes>"
      ]
     },
     "metadata": {
      "needs_background": "light"
     },
     "output_type": "display_data"
    }
   ],
   "source": [
    "ts.rolling(window=6).mean().plot()"
   ]
  },
  {
   "cell_type": "markdown",
   "id": "ba5e3f66",
   "metadata": {},
   "source": [
    "# ETS Model"
   ]
  },
  {
   "cell_type": "code",
   "execution_count": 39,
   "id": "7ce289b6",
   "metadata": {},
   "outputs": [],
   "source": [
    "#ETS models\n",
    "from statsmodels.tsa.holtwinters import ExponentialSmoothing"
   ]
  },
  {
   "cell_type": "code",
   "execution_count": 40,
   "id": "676a1e37",
   "metadata": {},
   "outputs": [],
   "source": [
    "from sklearn.metrics import mean_absolute_error\n",
    "\n",
    "def auto_hwm(timeseries, val_split_date, alpha=[None], beta=[None], gamma=[None], \n",
    "              trend=None, seasonal=None, periods=None, verbose=False):\n",
    "\n",
    "    best_params = []\n",
    "    actual = timeseries[val_split_date:]\n",
    "\n",
    "    print('Evaluating Exponential Smoothing model for', len(alpha) * len(beta) * len(gamma), 'fits\\n')\n",
    "\n",
    "    for a in alpha:\n",
    "        for b in beta:\n",
    "            for g in gamma:\n",
    "\n",
    "                    if(verbose == True):\n",
    "                        print('Checking for', {'alpha': a, 'beta': b, 'gamma': g})\n",
    "\n",
    "                    model = ExponentialSmoothing(timeseries, trend=trend, seasonal=seasonal, seasonal_periods=periods)\n",
    "                    model.fit(smoothing_level=a, smoothing_slope=b, smoothing_seasonal=g)\n",
    "                    f_cast = model.predict(model.params, start=actual.index[0])\n",
    "                    score = np.where(np.float64(mean_absolute_error(actual, f_cast)/actual).mean()>0,np.float64(mean_absolute_error(actual, f_cast)/actual).mean(),0)\n",
    "\n",
    "                    best_params.append({'alpha': a, 'beta': b, 'gamma': g, 'mae': score})\n",
    "\n",
    "    return min(best_params, key=lambda x: x['mae'])"
   ]
  },
  {
   "cell_type": "code",
   "execution_count": 41,
   "id": "0c5de1a4",
   "metadata": {},
   "outputs": [],
   "source": [
    "alpha = [0.1,0.2,0.3,0.4,0.5,0.6,0.7,0.8,0.9]\n",
    "beta = [0.1,0.2,0.3,0.4,0.5,0.6,0.7,0.8,0.9]\n",
    "gamma =[0.1,0.2,0.3,0.4,0.5,0.6,0.7,0.8,0.9]"
   ]
  },
  {
   "cell_type": "code",
   "execution_count": 42,
   "id": "d512c9f2",
   "metadata": {},
   "outputs": [
    {
     "data": {
      "text/plain": [
       "DATE\n",
       "2019-05-01     97\n",
       "2019-06-01    110\n",
       "2019-07-01    122\n",
       "2019-08-01    121\n",
       "2019-09-01    109\n",
       "Name: Electricty_Consumption_in_TW, dtype: int64"
      ]
     },
     "execution_count": 42,
     "metadata": {},
     "output_type": "execute_result"
    }
   ],
   "source": [
    "ts.tail()"
   ]
  },
  {
   "cell_type": "code",
   "execution_count": 127,
   "id": "296fc018",
   "metadata": {},
   "outputs": [
    {
     "name": "stdout",
     "output_type": "stream",
     "text": [
      "Evaluating Exponential Smoothing model for 729 fits\n",
      "\n",
      "Checking for {'alpha': 0.1, 'beta': 0.1, 'gamma': 0.1}\n",
      "Checking for {'alpha': 0.1, 'beta': 0.1, 'gamma': 0.2}\n",
      "Checking for {'alpha': 0.1, 'beta': 0.1, 'gamma': 0.3}\n",
      "Checking for {'alpha': 0.1, 'beta': 0.1, 'gamma': 0.4}\n",
      "Checking for {'alpha': 0.1, 'beta': 0.1, 'gamma': 0.5}\n",
      "Checking for {'alpha': 0.1, 'beta': 0.1, 'gamma': 0.6}\n",
      "Checking for {'alpha': 0.1, 'beta': 0.1, 'gamma': 0.7}\n",
      "Checking for {'alpha': 0.1, 'beta': 0.1, 'gamma': 0.8}\n",
      "Checking for {'alpha': 0.1, 'beta': 0.1, 'gamma': 0.9}\n",
      "Checking for {'alpha': 0.1, 'beta': 0.2, 'gamma': 0.1}\n",
      "Checking for {'alpha': 0.1, 'beta': 0.2, 'gamma': 0.2}\n",
      "Checking for {'alpha': 0.1, 'beta': 0.2, 'gamma': 0.3}\n",
      "Checking for {'alpha': 0.1, 'beta': 0.2, 'gamma': 0.4}\n",
      "Checking for {'alpha': 0.1, 'beta': 0.2, 'gamma': 0.5}\n",
      "Checking for {'alpha': 0.1, 'beta': 0.2, 'gamma': 0.6}\n",
      "Checking for {'alpha': 0.1, 'beta': 0.2, 'gamma': 0.7}\n",
      "Checking for {'alpha': 0.1, 'beta': 0.2, 'gamma': 0.8}\n",
      "Checking for {'alpha': 0.1, 'beta': 0.2, 'gamma': 0.9}\n",
      "Checking for {'alpha': 0.1, 'beta': 0.3, 'gamma': 0.1}\n",
      "Checking for {'alpha': 0.1, 'beta': 0.3, 'gamma': 0.2}\n",
      "Checking for {'alpha': 0.1, 'beta': 0.3, 'gamma': 0.3}\n",
      "Checking for {'alpha': 0.1, 'beta': 0.3, 'gamma': 0.4}\n",
      "Checking for {'alpha': 0.1, 'beta': 0.3, 'gamma': 0.5}\n",
      "Checking for {'alpha': 0.1, 'beta': 0.3, 'gamma': 0.6}\n",
      "Checking for {'alpha': 0.1, 'beta': 0.3, 'gamma': 0.7}\n",
      "Checking for {'alpha': 0.1, 'beta': 0.3, 'gamma': 0.8}\n",
      "Checking for {'alpha': 0.1, 'beta': 0.3, 'gamma': 0.9}\n",
      "Checking for {'alpha': 0.1, 'beta': 0.4, 'gamma': 0.1}\n",
      "Checking for {'alpha': 0.1, 'beta': 0.4, 'gamma': 0.2}\n",
      "Checking for {'alpha': 0.1, 'beta': 0.4, 'gamma': 0.3}\n",
      "Checking for {'alpha': 0.1, 'beta': 0.4, 'gamma': 0.4}\n",
      "Checking for {'alpha': 0.1, 'beta': 0.4, 'gamma': 0.5}\n",
      "Checking for {'alpha': 0.1, 'beta': 0.4, 'gamma': 0.6}\n",
      "Checking for {'alpha': 0.1, 'beta': 0.4, 'gamma': 0.7}\n",
      "Checking for {'alpha': 0.1, 'beta': 0.4, 'gamma': 0.8}\n",
      "Checking for {'alpha': 0.1, 'beta': 0.4, 'gamma': 0.9}\n",
      "Checking for {'alpha': 0.1, 'beta': 0.5, 'gamma': 0.1}\n",
      "Checking for {'alpha': 0.1, 'beta': 0.5, 'gamma': 0.2}\n",
      "Checking for {'alpha': 0.1, 'beta': 0.5, 'gamma': 0.3}\n",
      "Checking for {'alpha': 0.1, 'beta': 0.5, 'gamma': 0.4}\n",
      "Checking for {'alpha': 0.1, 'beta': 0.5, 'gamma': 0.5}\n",
      "Checking for {'alpha': 0.1, 'beta': 0.5, 'gamma': 0.6}\n",
      "Checking for {'alpha': 0.1, 'beta': 0.5, 'gamma': 0.7}\n",
      "Checking for {'alpha': 0.1, 'beta': 0.5, 'gamma': 0.8}\n",
      "Checking for {'alpha': 0.1, 'beta': 0.5, 'gamma': 0.9}\n",
      "Checking for {'alpha': 0.1, 'beta': 0.6, 'gamma': 0.1}\n",
      "Checking for {'alpha': 0.1, 'beta': 0.6, 'gamma': 0.2}\n",
      "Checking for {'alpha': 0.1, 'beta': 0.6, 'gamma': 0.3}\n",
      "Checking for {'alpha': 0.1, 'beta': 0.6, 'gamma': 0.4}\n",
      "Checking for {'alpha': 0.1, 'beta': 0.6, 'gamma': 0.5}\n",
      "Checking for {'alpha': 0.1, 'beta': 0.6, 'gamma': 0.6}\n",
      "Checking for {'alpha': 0.1, 'beta': 0.6, 'gamma': 0.7}\n",
      "Checking for {'alpha': 0.1, 'beta': 0.6, 'gamma': 0.8}\n",
      "Checking for {'alpha': 0.1, 'beta': 0.6, 'gamma': 0.9}\n",
      "Checking for {'alpha': 0.1, 'beta': 0.7, 'gamma': 0.1}\n",
      "Checking for {'alpha': 0.1, 'beta': 0.7, 'gamma': 0.2}\n",
      "Checking for {'alpha': 0.1, 'beta': 0.7, 'gamma': 0.3}\n",
      "Checking for {'alpha': 0.1, 'beta': 0.7, 'gamma': 0.4}\n",
      "Checking for {'alpha': 0.1, 'beta': 0.7, 'gamma': 0.5}\n",
      "Checking for {'alpha': 0.1, 'beta': 0.7, 'gamma': 0.6}\n",
      "Checking for {'alpha': 0.1, 'beta': 0.7, 'gamma': 0.7}\n",
      "Checking for {'alpha': 0.1, 'beta': 0.7, 'gamma': 0.8}\n",
      "Checking for {'alpha': 0.1, 'beta': 0.7, 'gamma': 0.9}\n",
      "Checking for {'alpha': 0.1, 'beta': 0.8, 'gamma': 0.1}\n",
      "Checking for {'alpha': 0.1, 'beta': 0.8, 'gamma': 0.2}\n",
      "Checking for {'alpha': 0.1, 'beta': 0.8, 'gamma': 0.3}\n",
      "Checking for {'alpha': 0.1, 'beta': 0.8, 'gamma': 0.4}\n",
      "Checking for {'alpha': 0.1, 'beta': 0.8, 'gamma': 0.5}\n",
      "Checking for {'alpha': 0.1, 'beta': 0.8, 'gamma': 0.6}\n",
      "Checking for {'alpha': 0.1, 'beta': 0.8, 'gamma': 0.7}\n",
      "Checking for {'alpha': 0.1, 'beta': 0.8, 'gamma': 0.8}\n",
      "Checking for {'alpha': 0.1, 'beta': 0.8, 'gamma': 0.9}\n",
      "Checking for {'alpha': 0.1, 'beta': 0.9, 'gamma': 0.1}\n",
      "Checking for {'alpha': 0.1, 'beta': 0.9, 'gamma': 0.2}\n",
      "Checking for {'alpha': 0.1, 'beta': 0.9, 'gamma': 0.3}\n",
      "Checking for {'alpha': 0.1, 'beta': 0.9, 'gamma': 0.4}\n",
      "Checking for {'alpha': 0.1, 'beta': 0.9, 'gamma': 0.5}\n",
      "Checking for {'alpha': 0.1, 'beta': 0.9, 'gamma': 0.6}\n",
      "Checking for {'alpha': 0.1, 'beta': 0.9, 'gamma': 0.7}\n",
      "Checking for {'alpha': 0.1, 'beta': 0.9, 'gamma': 0.8}\n",
      "Checking for {'alpha': 0.1, 'beta': 0.9, 'gamma': 0.9}\n",
      "Checking for {'alpha': 0.2, 'beta': 0.1, 'gamma': 0.1}\n",
      "Checking for {'alpha': 0.2, 'beta': 0.1, 'gamma': 0.2}\n",
      "Checking for {'alpha': 0.2, 'beta': 0.1, 'gamma': 0.3}\n",
      "Checking for {'alpha': 0.2, 'beta': 0.1, 'gamma': 0.4}\n",
      "Checking for {'alpha': 0.2, 'beta': 0.1, 'gamma': 0.5}\n",
      "Checking for {'alpha': 0.2, 'beta': 0.1, 'gamma': 0.6}\n",
      "Checking for {'alpha': 0.2, 'beta': 0.1, 'gamma': 0.7}\n",
      "Checking for {'alpha': 0.2, 'beta': 0.1, 'gamma': 0.8}\n",
      "Checking for {'alpha': 0.2, 'beta': 0.1, 'gamma': 0.9}\n",
      "Checking for {'alpha': 0.2, 'beta': 0.2, 'gamma': 0.1}\n",
      "Checking for {'alpha': 0.2, 'beta': 0.2, 'gamma': 0.2}\n",
      "Checking for {'alpha': 0.2, 'beta': 0.2, 'gamma': 0.3}\n",
      "Checking for {'alpha': 0.2, 'beta': 0.2, 'gamma': 0.4}\n",
      "Checking for {'alpha': 0.2, 'beta': 0.2, 'gamma': 0.5}\n",
      "Checking for {'alpha': 0.2, 'beta': 0.2, 'gamma': 0.6}\n",
      "Checking for {'alpha': 0.2, 'beta': 0.2, 'gamma': 0.7}\n",
      "Checking for {'alpha': 0.2, 'beta': 0.2, 'gamma': 0.8}\n",
      "Checking for {'alpha': 0.2, 'beta': 0.2, 'gamma': 0.9}\n",
      "Checking for {'alpha': 0.2, 'beta': 0.3, 'gamma': 0.1}\n",
      "Checking for {'alpha': 0.2, 'beta': 0.3, 'gamma': 0.2}\n",
      "Checking for {'alpha': 0.2, 'beta': 0.3, 'gamma': 0.3}\n",
      "Checking for {'alpha': 0.2, 'beta': 0.3, 'gamma': 0.4}\n",
      "Checking for {'alpha': 0.2, 'beta': 0.3, 'gamma': 0.5}\n",
      "Checking for {'alpha': 0.2, 'beta': 0.3, 'gamma': 0.6}\n",
      "Checking for {'alpha': 0.2, 'beta': 0.3, 'gamma': 0.7}\n",
      "Checking for {'alpha': 0.2, 'beta': 0.3, 'gamma': 0.8}\n",
      "Checking for {'alpha': 0.2, 'beta': 0.3, 'gamma': 0.9}\n",
      "Checking for {'alpha': 0.2, 'beta': 0.4, 'gamma': 0.1}\n",
      "Checking for {'alpha': 0.2, 'beta': 0.4, 'gamma': 0.2}\n",
      "Checking for {'alpha': 0.2, 'beta': 0.4, 'gamma': 0.3}\n",
      "Checking for {'alpha': 0.2, 'beta': 0.4, 'gamma': 0.4}\n",
      "Checking for {'alpha': 0.2, 'beta': 0.4, 'gamma': 0.5}\n",
      "Checking for {'alpha': 0.2, 'beta': 0.4, 'gamma': 0.6}\n",
      "Checking for {'alpha': 0.2, 'beta': 0.4, 'gamma': 0.7}\n",
      "Checking for {'alpha': 0.2, 'beta': 0.4, 'gamma': 0.8}\n",
      "Checking for {'alpha': 0.2, 'beta': 0.4, 'gamma': 0.9}\n",
      "Checking for {'alpha': 0.2, 'beta': 0.5, 'gamma': 0.1}\n",
      "Checking for {'alpha': 0.2, 'beta': 0.5, 'gamma': 0.2}\n",
      "Checking for {'alpha': 0.2, 'beta': 0.5, 'gamma': 0.3}\n",
      "Checking for {'alpha': 0.2, 'beta': 0.5, 'gamma': 0.4}\n",
      "Checking for {'alpha': 0.2, 'beta': 0.5, 'gamma': 0.5}\n",
      "Checking for {'alpha': 0.2, 'beta': 0.5, 'gamma': 0.6}\n",
      "Checking for {'alpha': 0.2, 'beta': 0.5, 'gamma': 0.7}\n",
      "Checking for {'alpha': 0.2, 'beta': 0.5, 'gamma': 0.8}\n",
      "Checking for {'alpha': 0.2, 'beta': 0.5, 'gamma': 0.9}\n",
      "Checking for {'alpha': 0.2, 'beta': 0.6, 'gamma': 0.1}\n",
      "Checking for {'alpha': 0.2, 'beta': 0.6, 'gamma': 0.2}\n",
      "Checking for {'alpha': 0.2, 'beta': 0.6, 'gamma': 0.3}\n",
      "Checking for {'alpha': 0.2, 'beta': 0.6, 'gamma': 0.4}\n",
      "Checking for {'alpha': 0.2, 'beta': 0.6, 'gamma': 0.5}\n",
      "Checking for {'alpha': 0.2, 'beta': 0.6, 'gamma': 0.6}\n",
      "Checking for {'alpha': 0.2, 'beta': 0.6, 'gamma': 0.7}\n",
      "Checking for {'alpha': 0.2, 'beta': 0.6, 'gamma': 0.8}\n",
      "Checking for {'alpha': 0.2, 'beta': 0.6, 'gamma': 0.9}\n",
      "Checking for {'alpha': 0.2, 'beta': 0.7, 'gamma': 0.1}\n",
      "Checking for {'alpha': 0.2, 'beta': 0.7, 'gamma': 0.2}\n",
      "Checking for {'alpha': 0.2, 'beta': 0.7, 'gamma': 0.3}\n",
      "Checking for {'alpha': 0.2, 'beta': 0.7, 'gamma': 0.4}\n",
      "Checking for {'alpha': 0.2, 'beta': 0.7, 'gamma': 0.5}\n",
      "Checking for {'alpha': 0.2, 'beta': 0.7, 'gamma': 0.6}\n",
      "Checking for {'alpha': 0.2, 'beta': 0.7, 'gamma': 0.7}\n",
      "Checking for {'alpha': 0.2, 'beta': 0.7, 'gamma': 0.8}\n",
      "Checking for {'alpha': 0.2, 'beta': 0.7, 'gamma': 0.9}\n",
      "Checking for {'alpha': 0.2, 'beta': 0.8, 'gamma': 0.1}\n",
      "Checking for {'alpha': 0.2, 'beta': 0.8, 'gamma': 0.2}\n",
      "Checking for {'alpha': 0.2, 'beta': 0.8, 'gamma': 0.3}\n",
      "Checking for {'alpha': 0.2, 'beta': 0.8, 'gamma': 0.4}\n",
      "Checking for {'alpha': 0.2, 'beta': 0.8, 'gamma': 0.5}\n",
      "Checking for {'alpha': 0.2, 'beta': 0.8, 'gamma': 0.6}\n",
      "Checking for {'alpha': 0.2, 'beta': 0.8, 'gamma': 0.7}\n",
      "Checking for {'alpha': 0.2, 'beta': 0.8, 'gamma': 0.8}\n",
      "Checking for {'alpha': 0.2, 'beta': 0.8, 'gamma': 0.9}\n"
     ]
    },
    {
     "name": "stdout",
     "output_type": "stream",
     "text": [
      "Checking for {'alpha': 0.2, 'beta': 0.9, 'gamma': 0.1}\n",
      "Checking for {'alpha': 0.2, 'beta': 0.9, 'gamma': 0.2}\n",
      "Checking for {'alpha': 0.2, 'beta': 0.9, 'gamma': 0.3}\n",
      "Checking for {'alpha': 0.2, 'beta': 0.9, 'gamma': 0.4}\n",
      "Checking for {'alpha': 0.2, 'beta': 0.9, 'gamma': 0.5}\n",
      "Checking for {'alpha': 0.2, 'beta': 0.9, 'gamma': 0.6}\n",
      "Checking for {'alpha': 0.2, 'beta': 0.9, 'gamma': 0.7}\n",
      "Checking for {'alpha': 0.2, 'beta': 0.9, 'gamma': 0.8}\n",
      "Checking for {'alpha': 0.2, 'beta': 0.9, 'gamma': 0.9}\n",
      "Checking for {'alpha': 0.3, 'beta': 0.1, 'gamma': 0.1}\n",
      "Checking for {'alpha': 0.3, 'beta': 0.1, 'gamma': 0.2}\n",
      "Checking for {'alpha': 0.3, 'beta': 0.1, 'gamma': 0.3}\n",
      "Checking for {'alpha': 0.3, 'beta': 0.1, 'gamma': 0.4}\n",
      "Checking for {'alpha': 0.3, 'beta': 0.1, 'gamma': 0.5}\n",
      "Checking for {'alpha': 0.3, 'beta': 0.1, 'gamma': 0.6}\n",
      "Checking for {'alpha': 0.3, 'beta': 0.1, 'gamma': 0.7}\n",
      "Checking for {'alpha': 0.3, 'beta': 0.1, 'gamma': 0.8}\n",
      "Checking for {'alpha': 0.3, 'beta': 0.1, 'gamma': 0.9}\n",
      "Checking for {'alpha': 0.3, 'beta': 0.2, 'gamma': 0.1}\n",
      "Checking for {'alpha': 0.3, 'beta': 0.2, 'gamma': 0.2}\n",
      "Checking for {'alpha': 0.3, 'beta': 0.2, 'gamma': 0.3}\n",
      "Checking for {'alpha': 0.3, 'beta': 0.2, 'gamma': 0.4}\n",
      "Checking for {'alpha': 0.3, 'beta': 0.2, 'gamma': 0.5}\n",
      "Checking for {'alpha': 0.3, 'beta': 0.2, 'gamma': 0.6}\n",
      "Checking for {'alpha': 0.3, 'beta': 0.2, 'gamma': 0.7}\n",
      "Checking for {'alpha': 0.3, 'beta': 0.2, 'gamma': 0.8}\n",
      "Checking for {'alpha': 0.3, 'beta': 0.2, 'gamma': 0.9}\n",
      "Checking for {'alpha': 0.3, 'beta': 0.3, 'gamma': 0.1}\n",
      "Checking for {'alpha': 0.3, 'beta': 0.3, 'gamma': 0.2}\n",
      "Checking for {'alpha': 0.3, 'beta': 0.3, 'gamma': 0.3}\n",
      "Checking for {'alpha': 0.3, 'beta': 0.3, 'gamma': 0.4}\n",
      "Checking for {'alpha': 0.3, 'beta': 0.3, 'gamma': 0.5}\n",
      "Checking for {'alpha': 0.3, 'beta': 0.3, 'gamma': 0.6}\n",
      "Checking for {'alpha': 0.3, 'beta': 0.3, 'gamma': 0.7}\n",
      "Checking for {'alpha': 0.3, 'beta': 0.3, 'gamma': 0.8}\n",
      "Checking for {'alpha': 0.3, 'beta': 0.3, 'gamma': 0.9}\n",
      "Checking for {'alpha': 0.3, 'beta': 0.4, 'gamma': 0.1}\n",
      "Checking for {'alpha': 0.3, 'beta': 0.4, 'gamma': 0.2}\n",
      "Checking for {'alpha': 0.3, 'beta': 0.4, 'gamma': 0.3}\n",
      "Checking for {'alpha': 0.3, 'beta': 0.4, 'gamma': 0.4}\n",
      "Checking for {'alpha': 0.3, 'beta': 0.4, 'gamma': 0.5}\n",
      "Checking for {'alpha': 0.3, 'beta': 0.4, 'gamma': 0.6}\n",
      "Checking for {'alpha': 0.3, 'beta': 0.4, 'gamma': 0.7}\n",
      "Checking for {'alpha': 0.3, 'beta': 0.4, 'gamma': 0.8}\n",
      "Checking for {'alpha': 0.3, 'beta': 0.4, 'gamma': 0.9}\n",
      "Checking for {'alpha': 0.3, 'beta': 0.5, 'gamma': 0.1}\n",
      "Checking for {'alpha': 0.3, 'beta': 0.5, 'gamma': 0.2}\n",
      "Checking for {'alpha': 0.3, 'beta': 0.5, 'gamma': 0.3}\n",
      "Checking for {'alpha': 0.3, 'beta': 0.5, 'gamma': 0.4}\n",
      "Checking for {'alpha': 0.3, 'beta': 0.5, 'gamma': 0.5}\n",
      "Checking for {'alpha': 0.3, 'beta': 0.5, 'gamma': 0.6}\n",
      "Checking for {'alpha': 0.3, 'beta': 0.5, 'gamma': 0.7}\n",
      "Checking for {'alpha': 0.3, 'beta': 0.5, 'gamma': 0.8}\n",
      "Checking for {'alpha': 0.3, 'beta': 0.5, 'gamma': 0.9}\n",
      "Checking for {'alpha': 0.3, 'beta': 0.6, 'gamma': 0.1}\n",
      "Checking for {'alpha': 0.3, 'beta': 0.6, 'gamma': 0.2}\n",
      "Checking for {'alpha': 0.3, 'beta': 0.6, 'gamma': 0.3}\n",
      "Checking for {'alpha': 0.3, 'beta': 0.6, 'gamma': 0.4}\n",
      "Checking for {'alpha': 0.3, 'beta': 0.6, 'gamma': 0.5}\n",
      "Checking for {'alpha': 0.3, 'beta': 0.6, 'gamma': 0.6}\n",
      "Checking for {'alpha': 0.3, 'beta': 0.6, 'gamma': 0.7}\n",
      "Checking for {'alpha': 0.3, 'beta': 0.6, 'gamma': 0.8}\n",
      "Checking for {'alpha': 0.3, 'beta': 0.6, 'gamma': 0.9}\n",
      "Checking for {'alpha': 0.3, 'beta': 0.7, 'gamma': 0.1}\n",
      "Checking for {'alpha': 0.3, 'beta': 0.7, 'gamma': 0.2}\n",
      "Checking for {'alpha': 0.3, 'beta': 0.7, 'gamma': 0.3}\n",
      "Checking for {'alpha': 0.3, 'beta': 0.7, 'gamma': 0.4}\n",
      "Checking for {'alpha': 0.3, 'beta': 0.7, 'gamma': 0.5}\n",
      "Checking for {'alpha': 0.3, 'beta': 0.7, 'gamma': 0.6}\n",
      "Checking for {'alpha': 0.3, 'beta': 0.7, 'gamma': 0.7}\n",
      "Checking for {'alpha': 0.3, 'beta': 0.7, 'gamma': 0.8}\n",
      "Checking for {'alpha': 0.3, 'beta': 0.7, 'gamma': 0.9}\n",
      "Checking for {'alpha': 0.3, 'beta': 0.8, 'gamma': 0.1}\n",
      "Checking for {'alpha': 0.3, 'beta': 0.8, 'gamma': 0.2}\n",
      "Checking for {'alpha': 0.3, 'beta': 0.8, 'gamma': 0.3}\n",
      "Checking for {'alpha': 0.3, 'beta': 0.8, 'gamma': 0.4}\n",
      "Checking for {'alpha': 0.3, 'beta': 0.8, 'gamma': 0.5}\n",
      "Checking for {'alpha': 0.3, 'beta': 0.8, 'gamma': 0.6}\n",
      "Checking for {'alpha': 0.3, 'beta': 0.8, 'gamma': 0.7}\n",
      "Checking for {'alpha': 0.3, 'beta': 0.8, 'gamma': 0.8}\n",
      "Checking for {'alpha': 0.3, 'beta': 0.8, 'gamma': 0.9}\n",
      "Checking for {'alpha': 0.3, 'beta': 0.9, 'gamma': 0.1}\n",
      "Checking for {'alpha': 0.3, 'beta': 0.9, 'gamma': 0.2}\n",
      "Checking for {'alpha': 0.3, 'beta': 0.9, 'gamma': 0.3}\n",
      "Checking for {'alpha': 0.3, 'beta': 0.9, 'gamma': 0.4}\n",
      "Checking for {'alpha': 0.3, 'beta': 0.9, 'gamma': 0.5}\n",
      "Checking for {'alpha': 0.3, 'beta': 0.9, 'gamma': 0.6}\n",
      "Checking for {'alpha': 0.3, 'beta': 0.9, 'gamma': 0.7}\n",
      "Checking for {'alpha': 0.3, 'beta': 0.9, 'gamma': 0.8}\n",
      "Checking for {'alpha': 0.3, 'beta': 0.9, 'gamma': 0.9}\n",
      "Checking for {'alpha': 0.4, 'beta': 0.1, 'gamma': 0.1}\n",
      "Checking for {'alpha': 0.4, 'beta': 0.1, 'gamma': 0.2}\n",
      "Checking for {'alpha': 0.4, 'beta': 0.1, 'gamma': 0.3}\n",
      "Checking for {'alpha': 0.4, 'beta': 0.1, 'gamma': 0.4}\n",
      "Checking for {'alpha': 0.4, 'beta': 0.1, 'gamma': 0.5}\n",
      "Checking for {'alpha': 0.4, 'beta': 0.1, 'gamma': 0.6}\n",
      "Checking for {'alpha': 0.4, 'beta': 0.1, 'gamma': 0.7}\n",
      "Checking for {'alpha': 0.4, 'beta': 0.1, 'gamma': 0.8}\n",
      "Checking for {'alpha': 0.4, 'beta': 0.1, 'gamma': 0.9}\n",
      "Checking for {'alpha': 0.4, 'beta': 0.2, 'gamma': 0.1}\n",
      "Checking for {'alpha': 0.4, 'beta': 0.2, 'gamma': 0.2}\n",
      "Checking for {'alpha': 0.4, 'beta': 0.2, 'gamma': 0.3}\n",
      "Checking for {'alpha': 0.4, 'beta': 0.2, 'gamma': 0.4}\n",
      "Checking for {'alpha': 0.4, 'beta': 0.2, 'gamma': 0.5}\n",
      "Checking for {'alpha': 0.4, 'beta': 0.2, 'gamma': 0.6}\n",
      "Checking for {'alpha': 0.4, 'beta': 0.2, 'gamma': 0.7}\n",
      "Checking for {'alpha': 0.4, 'beta': 0.2, 'gamma': 0.8}\n",
      "Checking for {'alpha': 0.4, 'beta': 0.2, 'gamma': 0.9}\n",
      "Checking for {'alpha': 0.4, 'beta': 0.3, 'gamma': 0.1}\n",
      "Checking for {'alpha': 0.4, 'beta': 0.3, 'gamma': 0.2}\n",
      "Checking for {'alpha': 0.4, 'beta': 0.3, 'gamma': 0.3}\n",
      "Checking for {'alpha': 0.4, 'beta': 0.3, 'gamma': 0.4}\n",
      "Checking for {'alpha': 0.4, 'beta': 0.3, 'gamma': 0.5}\n",
      "Checking for {'alpha': 0.4, 'beta': 0.3, 'gamma': 0.6}\n",
      "Checking for {'alpha': 0.4, 'beta': 0.3, 'gamma': 0.7}\n",
      "Checking for {'alpha': 0.4, 'beta': 0.3, 'gamma': 0.8}\n",
      "Checking for {'alpha': 0.4, 'beta': 0.3, 'gamma': 0.9}\n",
      "Checking for {'alpha': 0.4, 'beta': 0.4, 'gamma': 0.1}\n",
      "Checking for {'alpha': 0.4, 'beta': 0.4, 'gamma': 0.2}\n",
      "Checking for {'alpha': 0.4, 'beta': 0.4, 'gamma': 0.3}\n",
      "Checking for {'alpha': 0.4, 'beta': 0.4, 'gamma': 0.4}\n",
      "Checking for {'alpha': 0.4, 'beta': 0.4, 'gamma': 0.5}\n",
      "Checking for {'alpha': 0.4, 'beta': 0.4, 'gamma': 0.6}\n",
      "Checking for {'alpha': 0.4, 'beta': 0.4, 'gamma': 0.7}\n",
      "Checking for {'alpha': 0.4, 'beta': 0.4, 'gamma': 0.8}\n",
      "Checking for {'alpha': 0.4, 'beta': 0.4, 'gamma': 0.9}\n",
      "Checking for {'alpha': 0.4, 'beta': 0.5, 'gamma': 0.1}\n",
      "Checking for {'alpha': 0.4, 'beta': 0.5, 'gamma': 0.2}\n",
      "Checking for {'alpha': 0.4, 'beta': 0.5, 'gamma': 0.3}\n",
      "Checking for {'alpha': 0.4, 'beta': 0.5, 'gamma': 0.4}\n",
      "Checking for {'alpha': 0.4, 'beta': 0.5, 'gamma': 0.5}\n",
      "Checking for {'alpha': 0.4, 'beta': 0.5, 'gamma': 0.6}\n",
      "Checking for {'alpha': 0.4, 'beta': 0.5, 'gamma': 0.7}\n",
      "Checking for {'alpha': 0.4, 'beta': 0.5, 'gamma': 0.8}\n",
      "Checking for {'alpha': 0.4, 'beta': 0.5, 'gamma': 0.9}\n",
      "Checking for {'alpha': 0.4, 'beta': 0.6, 'gamma': 0.1}\n",
      "Checking for {'alpha': 0.4, 'beta': 0.6, 'gamma': 0.2}\n",
      "Checking for {'alpha': 0.4, 'beta': 0.6, 'gamma': 0.3}\n",
      "Checking for {'alpha': 0.4, 'beta': 0.6, 'gamma': 0.4}\n",
      "Checking for {'alpha': 0.4, 'beta': 0.6, 'gamma': 0.5}\n",
      "Checking for {'alpha': 0.4, 'beta': 0.6, 'gamma': 0.6}\n",
      "Checking for {'alpha': 0.4, 'beta': 0.6, 'gamma': 0.7}\n",
      "Checking for {'alpha': 0.4, 'beta': 0.6, 'gamma': 0.8}\n",
      "Checking for {'alpha': 0.4, 'beta': 0.6, 'gamma': 0.9}\n",
      "Checking for {'alpha': 0.4, 'beta': 0.7, 'gamma': 0.1}\n",
      "Checking for {'alpha': 0.4, 'beta': 0.7, 'gamma': 0.2}\n",
      "Checking for {'alpha': 0.4, 'beta': 0.7, 'gamma': 0.3}\n",
      "Checking for {'alpha': 0.4, 'beta': 0.7, 'gamma': 0.4}\n",
      "Checking for {'alpha': 0.4, 'beta': 0.7, 'gamma': 0.5}\n",
      "Checking for {'alpha': 0.4, 'beta': 0.7, 'gamma': 0.6}\n",
      "Checking for {'alpha': 0.4, 'beta': 0.7, 'gamma': 0.7}\n",
      "Checking for {'alpha': 0.4, 'beta': 0.7, 'gamma': 0.8}\n",
      "Checking for {'alpha': 0.4, 'beta': 0.7, 'gamma': 0.9}\n",
      "Checking for {'alpha': 0.4, 'beta': 0.8, 'gamma': 0.1}\n"
     ]
    },
    {
     "name": "stdout",
     "output_type": "stream",
     "text": [
      "Checking for {'alpha': 0.4, 'beta': 0.8, 'gamma': 0.2}\n",
      "Checking for {'alpha': 0.4, 'beta': 0.8, 'gamma': 0.3}\n",
      "Checking for {'alpha': 0.4, 'beta': 0.8, 'gamma': 0.4}\n",
      "Checking for {'alpha': 0.4, 'beta': 0.8, 'gamma': 0.5}\n",
      "Checking for {'alpha': 0.4, 'beta': 0.8, 'gamma': 0.6}\n",
      "Checking for {'alpha': 0.4, 'beta': 0.8, 'gamma': 0.7}\n",
      "Checking for {'alpha': 0.4, 'beta': 0.8, 'gamma': 0.8}\n"
     ]
    },
    {
     "ename": "ValueError",
     "evalue": "Input contains NaN, infinity or a value too large for dtype('float64').",
     "output_type": "error",
     "traceback": [
      "\u001b[1;31m---------------------------------------------------------------------------\u001b[0m",
      "\u001b[1;31mValueError\u001b[0m                                Traceback (most recent call last)",
      "\u001b[1;32m~\\AppData\\Local\\Temp/ipykernel_11784/1879322846.py\u001b[0m in \u001b[0;36m<module>\u001b[1;34m\u001b[0m\n\u001b[1;32m----> 1\u001b[1;33m auto_hwm(ts, val_split_date ='2018-09-01' , alpha=alpha, beta=beta, gamma=gamma, \n\u001b[0m\u001b[0;32m      2\u001b[0m               trend='mul', seasonal='mul', periods=12, verbose=True)\n",
      "\u001b[1;32m~\\AppData\\Local\\Temp/ipykernel_11784/1387445533.py\u001b[0m in \u001b[0;36mauto_hwm\u001b[1;34m(timeseries, val_split_date, alpha, beta, gamma, trend, seasonal, periods, verbose)\u001b[0m\n\u001b[0;32m     19\u001b[0m                     \u001b[0mmodel\u001b[0m\u001b[1;33m.\u001b[0m\u001b[0mfit\u001b[0m\u001b[1;33m(\u001b[0m\u001b[0msmoothing_level\u001b[0m\u001b[1;33m=\u001b[0m\u001b[0ma\u001b[0m\u001b[1;33m,\u001b[0m \u001b[0msmoothing_slope\u001b[0m\u001b[1;33m=\u001b[0m\u001b[0mb\u001b[0m\u001b[1;33m,\u001b[0m \u001b[0msmoothing_seasonal\u001b[0m\u001b[1;33m=\u001b[0m\u001b[0mg\u001b[0m\u001b[1;33m)\u001b[0m\u001b[1;33m\u001b[0m\u001b[1;33m\u001b[0m\u001b[0m\n\u001b[0;32m     20\u001b[0m                     \u001b[0mf_cast\u001b[0m \u001b[1;33m=\u001b[0m \u001b[0mmodel\u001b[0m\u001b[1;33m.\u001b[0m\u001b[0mpredict\u001b[0m\u001b[1;33m(\u001b[0m\u001b[0mmodel\u001b[0m\u001b[1;33m.\u001b[0m\u001b[0mparams\u001b[0m\u001b[1;33m,\u001b[0m \u001b[0mstart\u001b[0m\u001b[1;33m=\u001b[0m\u001b[0mactual\u001b[0m\u001b[1;33m.\u001b[0m\u001b[0mindex\u001b[0m\u001b[1;33m[\u001b[0m\u001b[1;36m0\u001b[0m\u001b[1;33m]\u001b[0m\u001b[1;33m)\u001b[0m\u001b[1;33m\u001b[0m\u001b[1;33m\u001b[0m\u001b[0m\n\u001b[1;32m---> 21\u001b[1;33m                     \u001b[0mscore\u001b[0m \u001b[1;33m=\u001b[0m \u001b[0mnp\u001b[0m\u001b[1;33m.\u001b[0m\u001b[0mwhere\u001b[0m\u001b[1;33m(\u001b[0m\u001b[0mnp\u001b[0m\u001b[1;33m.\u001b[0m\u001b[0mfloat64\u001b[0m\u001b[1;33m(\u001b[0m\u001b[0mmean_absolute_error\u001b[0m\u001b[1;33m(\u001b[0m\u001b[0mactual\u001b[0m\u001b[1;33m,\u001b[0m \u001b[0mf_cast\u001b[0m\u001b[1;33m)\u001b[0m\u001b[1;33m/\u001b[0m\u001b[0mactual\u001b[0m\u001b[1;33m)\u001b[0m\u001b[1;33m.\u001b[0m\u001b[0mmean\u001b[0m\u001b[1;33m(\u001b[0m\u001b[1;33m)\u001b[0m\u001b[1;33m>\u001b[0m\u001b[1;36m0\u001b[0m\u001b[1;33m,\u001b[0m\u001b[0mnp\u001b[0m\u001b[1;33m.\u001b[0m\u001b[0mfloat64\u001b[0m\u001b[1;33m(\u001b[0m\u001b[0mmean_absolute_error\u001b[0m\u001b[1;33m(\u001b[0m\u001b[0mactual\u001b[0m\u001b[1;33m,\u001b[0m \u001b[0mf_cast\u001b[0m\u001b[1;33m)\u001b[0m\u001b[1;33m/\u001b[0m\u001b[0mactual\u001b[0m\u001b[1;33m)\u001b[0m\u001b[1;33m.\u001b[0m\u001b[0mmean\u001b[0m\u001b[1;33m(\u001b[0m\u001b[1;33m)\u001b[0m\u001b[1;33m,\u001b[0m\u001b[1;36m0\u001b[0m\u001b[1;33m)\u001b[0m\u001b[1;33m\u001b[0m\u001b[1;33m\u001b[0m\u001b[0m\n\u001b[0m\u001b[0;32m     22\u001b[0m \u001b[1;33m\u001b[0m\u001b[0m\n\u001b[0;32m     23\u001b[0m                     \u001b[0mbest_params\u001b[0m\u001b[1;33m.\u001b[0m\u001b[0mappend\u001b[0m\u001b[1;33m(\u001b[0m\u001b[1;33m{\u001b[0m\u001b[1;34m'alpha'\u001b[0m\u001b[1;33m:\u001b[0m \u001b[0ma\u001b[0m\u001b[1;33m,\u001b[0m \u001b[1;34m'beta'\u001b[0m\u001b[1;33m:\u001b[0m \u001b[0mb\u001b[0m\u001b[1;33m,\u001b[0m \u001b[1;34m'gamma'\u001b[0m\u001b[1;33m:\u001b[0m \u001b[0mg\u001b[0m\u001b[1;33m,\u001b[0m \u001b[1;34m'mae'\u001b[0m\u001b[1;33m:\u001b[0m \u001b[0mscore\u001b[0m\u001b[1;33m}\u001b[0m\u001b[1;33m)\u001b[0m\u001b[1;33m\u001b[0m\u001b[1;33m\u001b[0m\u001b[0m\n",
      "\u001b[1;32mC:\\ProgramData\\Anaconda3\\lib\\site-packages\\sklearn\\utils\\validation.py\u001b[0m in \u001b[0;36minner_f\u001b[1;34m(*args, **kwargs)\u001b[0m\n\u001b[0;32m     61\u001b[0m             \u001b[0mextra_args\u001b[0m \u001b[1;33m=\u001b[0m \u001b[0mlen\u001b[0m\u001b[1;33m(\u001b[0m\u001b[0margs\u001b[0m\u001b[1;33m)\u001b[0m \u001b[1;33m-\u001b[0m \u001b[0mlen\u001b[0m\u001b[1;33m(\u001b[0m\u001b[0mall_args\u001b[0m\u001b[1;33m)\u001b[0m\u001b[1;33m\u001b[0m\u001b[1;33m\u001b[0m\u001b[0m\n\u001b[0;32m     62\u001b[0m             \u001b[1;32mif\u001b[0m \u001b[0mextra_args\u001b[0m \u001b[1;33m<=\u001b[0m \u001b[1;36m0\u001b[0m\u001b[1;33m:\u001b[0m\u001b[1;33m\u001b[0m\u001b[1;33m\u001b[0m\u001b[0m\n\u001b[1;32m---> 63\u001b[1;33m                 \u001b[1;32mreturn\u001b[0m \u001b[0mf\u001b[0m\u001b[1;33m(\u001b[0m\u001b[1;33m*\u001b[0m\u001b[0margs\u001b[0m\u001b[1;33m,\u001b[0m \u001b[1;33m**\u001b[0m\u001b[0mkwargs\u001b[0m\u001b[1;33m)\u001b[0m\u001b[1;33m\u001b[0m\u001b[1;33m\u001b[0m\u001b[0m\n\u001b[0m\u001b[0;32m     64\u001b[0m \u001b[1;33m\u001b[0m\u001b[0m\n\u001b[0;32m     65\u001b[0m             \u001b[1;31m# extra_args > 0\u001b[0m\u001b[1;33m\u001b[0m\u001b[1;33m\u001b[0m\u001b[0m\n",
      "\u001b[1;32mC:\\ProgramData\\Anaconda3\\lib\\site-packages\\sklearn\\metrics\\_regression.py\u001b[0m in \u001b[0;36mmean_absolute_error\u001b[1;34m(y_true, y_pred, sample_weight, multioutput)\u001b[0m\n\u001b[0;32m    180\u001b[0m     \u001b[1;36m0.85\u001b[0m\u001b[1;33m...\u001b[0m\u001b[1;33m\u001b[0m\u001b[1;33m\u001b[0m\u001b[0m\n\u001b[0;32m    181\u001b[0m     \"\"\"\n\u001b[1;32m--> 182\u001b[1;33m     y_type, y_true, y_pred, multioutput = _check_reg_targets(\n\u001b[0m\u001b[0;32m    183\u001b[0m         y_true, y_pred, multioutput)\n\u001b[0;32m    184\u001b[0m     \u001b[0mcheck_consistent_length\u001b[0m\u001b[1;33m(\u001b[0m\u001b[0my_true\u001b[0m\u001b[1;33m,\u001b[0m \u001b[0my_pred\u001b[0m\u001b[1;33m,\u001b[0m \u001b[0msample_weight\u001b[0m\u001b[1;33m)\u001b[0m\u001b[1;33m\u001b[0m\u001b[1;33m\u001b[0m\u001b[0m\n",
      "\u001b[1;32mC:\\ProgramData\\Anaconda3\\lib\\site-packages\\sklearn\\metrics\\_regression.py\u001b[0m in \u001b[0;36m_check_reg_targets\u001b[1;34m(y_true, y_pred, multioutput, dtype)\u001b[0m\n\u001b[0;32m     88\u001b[0m     \u001b[0mcheck_consistent_length\u001b[0m\u001b[1;33m(\u001b[0m\u001b[0my_true\u001b[0m\u001b[1;33m,\u001b[0m \u001b[0my_pred\u001b[0m\u001b[1;33m)\u001b[0m\u001b[1;33m\u001b[0m\u001b[1;33m\u001b[0m\u001b[0m\n\u001b[0;32m     89\u001b[0m     \u001b[0my_true\u001b[0m \u001b[1;33m=\u001b[0m \u001b[0mcheck_array\u001b[0m\u001b[1;33m(\u001b[0m\u001b[0my_true\u001b[0m\u001b[1;33m,\u001b[0m \u001b[0mensure_2d\u001b[0m\u001b[1;33m=\u001b[0m\u001b[1;32mFalse\u001b[0m\u001b[1;33m,\u001b[0m \u001b[0mdtype\u001b[0m\u001b[1;33m=\u001b[0m\u001b[0mdtype\u001b[0m\u001b[1;33m)\u001b[0m\u001b[1;33m\u001b[0m\u001b[1;33m\u001b[0m\u001b[0m\n\u001b[1;32m---> 90\u001b[1;33m     \u001b[0my_pred\u001b[0m \u001b[1;33m=\u001b[0m \u001b[0mcheck_array\u001b[0m\u001b[1;33m(\u001b[0m\u001b[0my_pred\u001b[0m\u001b[1;33m,\u001b[0m \u001b[0mensure_2d\u001b[0m\u001b[1;33m=\u001b[0m\u001b[1;32mFalse\u001b[0m\u001b[1;33m,\u001b[0m \u001b[0mdtype\u001b[0m\u001b[1;33m=\u001b[0m\u001b[0mdtype\u001b[0m\u001b[1;33m)\u001b[0m\u001b[1;33m\u001b[0m\u001b[1;33m\u001b[0m\u001b[0m\n\u001b[0m\u001b[0;32m     91\u001b[0m \u001b[1;33m\u001b[0m\u001b[0m\n\u001b[0;32m     92\u001b[0m     \u001b[1;32mif\u001b[0m \u001b[0my_true\u001b[0m\u001b[1;33m.\u001b[0m\u001b[0mndim\u001b[0m \u001b[1;33m==\u001b[0m \u001b[1;36m1\u001b[0m\u001b[1;33m:\u001b[0m\u001b[1;33m\u001b[0m\u001b[1;33m\u001b[0m\u001b[0m\n",
      "\u001b[1;32mC:\\ProgramData\\Anaconda3\\lib\\site-packages\\sklearn\\utils\\validation.py\u001b[0m in \u001b[0;36minner_f\u001b[1;34m(*args, **kwargs)\u001b[0m\n\u001b[0;32m     61\u001b[0m             \u001b[0mextra_args\u001b[0m \u001b[1;33m=\u001b[0m \u001b[0mlen\u001b[0m\u001b[1;33m(\u001b[0m\u001b[0margs\u001b[0m\u001b[1;33m)\u001b[0m \u001b[1;33m-\u001b[0m \u001b[0mlen\u001b[0m\u001b[1;33m(\u001b[0m\u001b[0mall_args\u001b[0m\u001b[1;33m)\u001b[0m\u001b[1;33m\u001b[0m\u001b[1;33m\u001b[0m\u001b[0m\n\u001b[0;32m     62\u001b[0m             \u001b[1;32mif\u001b[0m \u001b[0mextra_args\u001b[0m \u001b[1;33m<=\u001b[0m \u001b[1;36m0\u001b[0m\u001b[1;33m:\u001b[0m\u001b[1;33m\u001b[0m\u001b[1;33m\u001b[0m\u001b[0m\n\u001b[1;32m---> 63\u001b[1;33m                 \u001b[1;32mreturn\u001b[0m \u001b[0mf\u001b[0m\u001b[1;33m(\u001b[0m\u001b[1;33m*\u001b[0m\u001b[0margs\u001b[0m\u001b[1;33m,\u001b[0m \u001b[1;33m**\u001b[0m\u001b[0mkwargs\u001b[0m\u001b[1;33m)\u001b[0m\u001b[1;33m\u001b[0m\u001b[1;33m\u001b[0m\u001b[0m\n\u001b[0m\u001b[0;32m     64\u001b[0m \u001b[1;33m\u001b[0m\u001b[0m\n\u001b[0;32m     65\u001b[0m             \u001b[1;31m# extra_args > 0\u001b[0m\u001b[1;33m\u001b[0m\u001b[1;33m\u001b[0m\u001b[0m\n",
      "\u001b[1;32mC:\\ProgramData\\Anaconda3\\lib\\site-packages\\sklearn\\utils\\validation.py\u001b[0m in \u001b[0;36mcheck_array\u001b[1;34m(array, accept_sparse, accept_large_sparse, dtype, order, copy, force_all_finite, ensure_2d, allow_nd, ensure_min_samples, ensure_min_features, estimator)\u001b[0m\n\u001b[0;32m    718\u001b[0m \u001b[1;33m\u001b[0m\u001b[0m\n\u001b[0;32m    719\u001b[0m         \u001b[1;32mif\u001b[0m \u001b[0mforce_all_finite\u001b[0m\u001b[1;33m:\u001b[0m\u001b[1;33m\u001b[0m\u001b[1;33m\u001b[0m\u001b[0m\n\u001b[1;32m--> 720\u001b[1;33m             _assert_all_finite(array,\n\u001b[0m\u001b[0;32m    721\u001b[0m                                allow_nan=force_all_finite == 'allow-nan')\n\u001b[0;32m    722\u001b[0m \u001b[1;33m\u001b[0m\u001b[0m\n",
      "\u001b[1;32mC:\\ProgramData\\Anaconda3\\lib\\site-packages\\sklearn\\utils\\validation.py\u001b[0m in \u001b[0;36m_assert_all_finite\u001b[1;34m(X, allow_nan, msg_dtype)\u001b[0m\n\u001b[0;32m    101\u001b[0m                 not allow_nan and not np.isfinite(X).all()):\n\u001b[0;32m    102\u001b[0m             \u001b[0mtype_err\u001b[0m \u001b[1;33m=\u001b[0m \u001b[1;34m'infinity'\u001b[0m \u001b[1;32mif\u001b[0m \u001b[0mallow_nan\u001b[0m \u001b[1;32melse\u001b[0m \u001b[1;34m'NaN, infinity'\u001b[0m\u001b[1;33m\u001b[0m\u001b[1;33m\u001b[0m\u001b[0m\n\u001b[1;32m--> 103\u001b[1;33m             raise ValueError(\n\u001b[0m\u001b[0;32m    104\u001b[0m                     \u001b[0mmsg_err\u001b[0m\u001b[1;33m.\u001b[0m\u001b[0mformat\u001b[0m\u001b[1;33m\u001b[0m\u001b[1;33m\u001b[0m\u001b[0m\n\u001b[0;32m    105\u001b[0m                     (type_err,\n",
      "\u001b[1;31mValueError\u001b[0m: Input contains NaN, infinity or a value too large for dtype('float64')."
     ]
    }
   ],
   "source": [
    "auto_hwm(ts, val_split_date ='2019-04-01' , alpha=alpha, beta=beta, gamma=gamma, \n",
    "              trend='mul', seasonal='mul', periods=12, verbose=True)"
   ]
  },
  {
   "cell_type": "code",
   "execution_count": 44,
   "id": "fd2cfabb",
   "metadata": {},
   "outputs": [
    {
     "name": "stderr",
     "output_type": "stream",
     "text": [
      "C:\\ProgramData\\Anaconda3\\lib\\site-packages\\statsmodels\\tsa\\base\\tsa_model.py:524: ValueWarning: No frequency information was provided, so inferred frequency MS will be used.\n",
      "  warnings.warn('No frequency information was'\n",
      "C:\\ProgramData\\Anaconda3\\lib\\site-packages\\statsmodels\\tsa\\holtwinters\\model.py:427: FutureWarning: After 0.13 initialization must be handled at model creation\n",
      "  warnings.warn(\n",
      "C:\\Users\\Ankita\\AppData\\Local\\Temp/ipykernel_11784/4252097444.py:1: FutureWarning: the 'smoothing_slope'' keyword is deprecated, use 'smoothing_trend' instead\n",
      "  ets_model = ExponentialSmoothing(ts, trend='mul', seasonal='mul', seasonal_periods=12).fit(smoothing_level=0.1, smoothing_slope=0.6, smoothing_seasonal=0.2)\n",
      "C:\\ProgramData\\Anaconda3\\lib\\site-packages\\statsmodels\\tsa\\holtwinters\\model.py:80: RuntimeWarning: overflow encountered in matmul\n",
      "  return err.T @ err\n"
     ]
    }
   ],
   "source": [
    "ets_model = ExponentialSmoothing(ts, trend='mul', seasonal='mul', seasonal_periods=12).fit(smoothing_level=0.1, smoothing_slope=0.6, smoothing_seasonal=0.2)"
   ]
  },
  {
   "cell_type": "code",
   "execution_count": 45,
   "id": "1566356c",
   "metadata": {},
   "outputs": [
    {
     "name": "stdout",
     "output_type": "stream",
     "text": [
      "                           ExponentialSmoothing Model Results                           \n",
      "========================================================================================\n",
      "Dep. Variable:     Electricty_Consumption_in_TW   No. Observations:                  561\n",
      "Model:                     ExponentialSmoothing   SSE                           3718.193\n",
      "Optimized:                                 True   AIC                           1093.004\n",
      "Trend:                           Multiplicative   BIC                           1162.279\n",
      "Seasonal:                        Multiplicative   AICC                          1094.266\n",
      "Seasonal Periods:                            12   Date:                 Thu, 17 Mar 2022\n",
      "Box-Cox:                                  False   Time:                         10:25:42\n",
      "Box-Cox Coeff.:                            None                                         \n",
      "=================================================================================\n",
      "                          coeff                 code              optimized      \n",
      "---------------------------------------------------------------------------------\n",
      "smoothing_level               0.1000000                alpha                False\n",
      "smoothing_trend               0.6000000                 beta                False\n",
      "smoothing_seasonal            0.2000000                gamma                False\n",
      "initial_level                 70.815984                  l.0                 True\n",
      "initial_trend                 1.0121849                  b.0                 True\n",
      "initial_seasons.0             0.5043227                  s.0                 True\n",
      "initial_seasons.1             0.4860102                  s.1                 True\n",
      "initial_seasons.2             0.4588087                  s.2                 True\n",
      "initial_seasons.3             0.4332867                  s.3                 True\n",
      "initial_seasons.4             0.4340798                  s.4                 True\n",
      "initial_seasons.5             0.4752946                  s.5                 True\n",
      "initial_seasons.6             0.5180096                  s.6                 True\n",
      "initial_seasons.7             0.5331242                  s.7                 True\n",
      "initial_seasons.8             0.5042554                  s.8                 True\n",
      "initial_seasons.9             0.4626052                  s.9                 True\n",
      "initial_seasons.10            0.4569802                 s.10                 True\n",
      "initial_seasons.11            0.4801074                 s.11                 True\n",
      "---------------------------------------------------------------------------------\n"
     ]
    }
   ],
   "source": [
    "print(ets_model.summary())"
   ]
  },
  {
   "cell_type": "code",
   "execution_count": 46,
   "id": "2d5ba89a",
   "metadata": {},
   "outputs": [
    {
     "name": "stderr",
     "output_type": "stream",
     "text": [
      "C:\\ProgramData\\Anaconda3\\lib\\site-packages\\statsmodels\\tsa\\base\\tsa_model.py:132: FutureWarning: The 'freq' argument in Timestamp is deprecated and will be removed in a future version.\n",
      "  date_key = Timestamp(key, freq=base_index.freq)\n"
     ]
    },
    {
     "data": {
      "text/plain": [
       "2019-10-01     97.575885\n",
       "2019-11-01     95.856867\n",
       "2019-12-01    106.562962\n",
       "2020-01-01    113.549263\n",
       "2020-02-01    104.818752\n",
       "2020-03-01    100.815572\n",
       "2020-04-01     95.247687\n",
       "2020-05-01    102.478026\n",
       "2020-06-01    118.241194\n",
       "2020-07-01    130.949175\n",
       "2020-08-01    130.317894\n",
       "2020-09-01    117.378565\n",
       "2020-10-01    104.461744\n",
       "2020-11-01    102.621416\n",
       "2020-12-01    114.083032\n",
       "2021-01-01    121.562352\n",
       "2021-02-01    112.215734\n",
       "2021-03-01    107.930054\n",
       "2021-04-01    101.969247\n",
       "2021-05-01    109.709825\n",
       "2021-06-01    126.585389\n",
       "2021-07-01    140.190163\n",
       "2021-08-01    139.514332\n",
       "2021-09-01    125.661885\n",
       "Freq: MS, dtype: float64"
      ]
     },
     "execution_count": 46,
     "metadata": {},
     "output_type": "execute_result"
    }
   ],
   "source": [
    "ets_model.forecast(24)"
   ]
  },
  {
   "cell_type": "code",
   "execution_count": null,
   "id": "901ee356",
   "metadata": {},
   "outputs": [],
   "source": [
    "# Defining train and test and checking accuracy on both "
   ]
  },
  {
   "cell_type": "code",
   "execution_count": 47,
   "id": "6f84445a",
   "metadata": {},
   "outputs": [],
   "source": [
    "train = ts['1973-01-01':'2019-04-01'] "
   ]
  },
  {
   "cell_type": "code",
   "execution_count": 48,
   "id": "ef8ea9e8",
   "metadata": {},
   "outputs": [],
   "source": [
    "test = ts['2019-05-01':]"
   ]
  },
  {
   "cell_type": "code",
   "execution_count": 49,
   "id": "16a2a858",
   "metadata": {},
   "outputs": [
    {
     "name": "stderr",
     "output_type": "stream",
     "text": [
      "C:\\ProgramData\\Anaconda3\\lib\\site-packages\\statsmodels\\tsa\\base\\tsa_model.py:524: ValueWarning: No frequency information was provided, so inferred frequency MS will be used.\n",
      "  warnings.warn('No frequency information was'\n",
      "C:\\Users\\Ankita\\AppData\\Local\\Temp/ipykernel_11784/3835751609.py:1: FutureWarning: the 'smoothing_slope'' keyword is deprecated, use 'smoothing_trend' instead\n",
      "  ets_model = ExponentialSmoothing(train, trend='mul', seasonal='mul', seasonal_periods=12).fit(smoothing_level=0.1, smoothing_slope=0.6, smoothing_seasonal=0.2)\n"
     ]
    }
   ],
   "source": [
    "ets_model1 = ExponentialSmoothing(train, trend='mul', seasonal='mul', seasonal_periods=12).fit(smoothing_level=0.1, smoothing_slope=0.6, smoothing_seasonal=0.2)"
   ]
  },
  {
   "cell_type": "markdown",
   "id": "ae5fb94d",
   "metadata": {},
   "source": [
    "Checking accuracy of test dataset"
   ]
  },
  {
   "cell_type": "code",
   "execution_count": 50,
   "id": "962284c6",
   "metadata": {},
   "outputs": [],
   "source": [
    "f_cast = ets_model1.forecast(5)"
   ]
  },
  {
   "cell_type": "code",
   "execution_count": 51,
   "id": "22b38fd2",
   "metadata": {},
   "outputs": [
    {
     "data": {
      "text/plain": [
       "2019-05-01     94.969423\n",
       "2019-06-01    110.176740\n",
       "2019-07-01    122.016165\n",
       "2019-08-01    121.568420\n",
       "2019-09-01    109.323291\n",
       "Freq: MS, dtype: float64"
      ]
     },
     "execution_count": 51,
     "metadata": {},
     "output_type": "execute_result"
    }
   ],
   "source": [
    "f_cast"
   ]
  },
  {
   "cell_type": "code",
   "execution_count": 52,
   "id": "45e9b135",
   "metadata": {},
   "outputs": [
    {
     "data": {
      "text/plain": [
       "DATE\n",
       "2019-05-01     97\n",
       "2019-06-01    110\n",
       "2019-07-01    122\n",
       "2019-08-01    121\n",
       "2019-09-01    109\n",
       "Name: Electricty_Consumption_in_TW, dtype: int64"
      ]
     },
     "execution_count": 52,
     "metadata": {},
     "output_type": "execute_result"
    }
   ],
   "source": [
    "test"
   ]
  },
  {
   "cell_type": "code",
   "execution_count": 53,
   "id": "2e9e61ca",
   "metadata": {},
   "outputs": [
    {
     "name": "stdout",
     "output_type": "stream",
     "text": [
      "test error 0.006067334558572481\n"
     ]
    }
   ],
   "source": [
    "print('test error', np.mean(np.abs(test - f_cast)/test))"
   ]
  },
  {
   "cell_type": "markdown",
   "id": "2c213e8c",
   "metadata": {},
   "source": [
    "Checking accuracy on train dataset"
   ]
  },
  {
   "cell_type": "code",
   "execution_count": 54,
   "id": "66b14849",
   "metadata": {},
   "outputs": [],
   "source": [
    "pred = ets_model1.fittedvalues['2018-05-01':]"
   ]
  },
  {
   "cell_type": "code",
   "execution_count": 55,
   "id": "5dece624",
   "metadata": {},
   "outputs": [],
   "source": [
    "actual = train['2018-05-01':]"
   ]
  },
  {
   "cell_type": "code",
   "execution_count": 56,
   "id": "17b84435",
   "metadata": {},
   "outputs": [
    {
     "data": {
      "text/plain": [
       "DATE\n",
       "2018-05-01     93.132065\n",
       "2018-06-01    106.686627\n",
       "2018-07-01    116.383927\n",
       "2018-08-01    115.706103\n",
       "2018-09-01    102.722444\n",
       "2018-10-01     89.712110\n",
       "2018-11-01     88.189242\n",
       "2018-12-01     97.811076\n",
       "2019-01-01    103.358719\n",
       "2019-02-01     97.796839\n",
       "2019-03-01     94.101916\n",
       "2019-04-01     88.471493\n",
       "dtype: float64"
      ]
     },
     "execution_count": 56,
     "metadata": {},
     "output_type": "execute_result"
    }
   ],
   "source": [
    "pred"
   ]
  },
  {
   "cell_type": "code",
   "execution_count": 57,
   "id": "453ac178",
   "metadata": {},
   "outputs": [
    {
     "data": {
      "text/plain": [
       "DATE\n",
       "2018-05-01     93\n",
       "2018-06-01    107\n",
       "2018-07-01    119\n",
       "2018-08-01    115\n",
       "2018-09-01    103\n",
       "2018-10-01     94\n",
       "2018-11-01     91\n",
       "2018-12-01    101\n",
       "2019-01-01    111\n",
       "2019-02-01     97\n",
       "2019-03-01     93\n",
       "2019-04-01     89\n",
       "Name: Electricty_Consumption_in_TW, dtype: int64"
      ]
     },
     "execution_count": 57,
     "metadata": {},
     "output_type": "execute_result"
    }
   ],
   "source": [
    "actual"
   ]
  },
  {
   "cell_type": "code",
   "execution_count": 58,
   "id": "35c2ca26",
   "metadata": {},
   "outputs": [
    {
     "name": "stdout",
     "output_type": "stream",
     "text": [
      "train error 0.01984051458262167\n"
     ]
    }
   ],
   "source": [
    "print('train error',np.mean(np.abs(actual-pred)/actual))"
   ]
  },
  {
   "cell_type": "code",
   "execution_count": 59,
   "id": "1afc2998",
   "metadata": {},
   "outputs": [
    {
     "name": "stderr",
     "output_type": "stream",
     "text": [
      "C:\\ProgramData\\Anaconda3\\lib\\site-packages\\statsmodels\\tsa\\base\\tsa_model.py:524: ValueWarning: No frequency information was provided, so inferred frequency MS will be used.\n",
      "  warnings.warn('No frequency information was'\n",
      "C:\\Users\\Ankita\\AppData\\Local\\Temp/ipykernel_11784/2396990540.py:1: FutureWarning: the 'smoothing_slope'' keyword is deprecated, use 'smoothing_trend' instead\n",
      "  ts_model = ExponentialSmoothing(ts, trend='mul', seasonal='mul', seasonal_periods=12).fit(smoothing_level=0.1, smoothing_slope=0.6, smoothing_seasonal=0.2)\n"
     ]
    }
   ],
   "source": [
    "ets_model2 = ExponentialSmoothing(ts, trend='mul', seasonal='mul', seasonal_periods=12).fit(smoothing_level=0.1, smoothing_slope=0.6, smoothing_seasonal=0.2)"
   ]
  },
  {
   "cell_type": "code",
   "execution_count": 60,
   "id": "c11ad0fc",
   "metadata": {},
   "outputs": [
    {
     "data": {
      "text/plain": [
       "2019-05-01     94.969423\n",
       "2019-06-01    110.176740\n",
       "2019-07-01    122.016165\n",
       "2019-08-01    121.568420\n",
       "2019-09-01    109.323291\n",
       "2019-10-01     97.310697\n",
       "2019-11-01     95.613832\n",
       "2019-12-01    106.312221\n",
       "Freq: MS, dtype: float64"
      ]
     },
     "execution_count": 60,
     "metadata": {},
     "output_type": "execute_result"
    }
   ],
   "source": [
    "ets_model2.forecast(8)"
   ]
  },
  {
   "cell_type": "markdown",
   "id": "610d790f",
   "metadata": {},
   "source": [
    "# Doing EDA for SARIMA Model"
   ]
  },
  {
   "cell_type": "code",
   "execution_count": 84,
   "id": "6597bee1",
   "metadata": {},
   "outputs": [],
   "source": [
    "ts_diff = ts.diff().dropna()"
   ]
  },
  {
   "cell_type": "code",
   "execution_count": 85,
   "id": "185cbd85",
   "metadata": {},
   "outputs": [
    {
     "data": {
      "text/plain": [
       "(-8.043230948847507,\n",
       " 1.8232432466776893e-12,\n",
       " 14,\n",
       " 545,\n",
       " {'1%': -3.442405720052601,\n",
       "  '5%': -2.866857804790472,\n",
       "  '10%': -2.5696022094099824},\n",
       " 2307.141100485835)"
      ]
     },
     "execution_count": 85,
     "metadata": {},
     "output_type": "execute_result"
    }
   ],
   "source": [
    "adfuller(ts_diff)  # since p value is really low, it is stationary series"
   ]
  },
  {
   "cell_type": "code",
   "execution_count": 67,
   "id": "ae082d92",
   "metadata": {},
   "outputs": [],
   "source": [
    "#  original = ts\n",
    "# stationary series = ts_diff\n",
    "# input for ARIMA: Yt = ts_diff, d=1"
   ]
  },
  {
   "cell_type": "code",
   "execution_count": 94,
   "id": "784edddb",
   "metadata": {},
   "outputs": [
    {
     "data": {
      "image/png": "[encoded data removed]",
      "text/plain": [
       "<Figure size 432x288 with 1 Axes>"
      ]
     },
     "execution_count": 94,
     "metadata": {},
     "output_type": "execute_result"
    },
    {
     "data": {
      "image/png": "[encoded data removed]",
      "text/plain": [
       "<Figure size 432x288 with 1 Axes>"
      ]
     },
     "metadata": {
      "needs_background": "light"
     },
     "output_type": "display_data"
    }
   ],
   "source": [
    "smt.graphics.plot_acf(ts_diff) # Value of q is 1"
   ]
  },
  {
   "cell_type": "code",
   "execution_count": 95,
   "id": "689b7346",
   "metadata": {},
   "outputs": [
    {
     "data": {
      "image/png": "[encoded data removed]",
      "text/plain": [
       "<Figure size 432x288 with 1 Axes>"
      ]
     },
     "execution_count": 95,
     "metadata": {},
     "output_type": "execute_result"
    },
    {
     "data": {
      "image/png": "[encoded data removed]",
      "text/plain": [
       "<Figure size 432x288 with 1 Axes>"
      ]
     },
     "metadata": {
      "needs_background": "light"
     },
     "output_type": "display_data"
    }
   ],
   "source": [
    "#PACF\n",
    "smt.graphics.plot_pacf(ts_diff)  # value of p is 1"
   ]
  },
  {
   "cell_type": "code",
   "execution_count": null,
   "id": "7ec156fc",
   "metadata": {},
   "outputs": [],
   "source": [
    "# the value of p=1 and the value of q=1\n",
    "\n",
    "\n",
    "#using above p,d,q values, we will come up with ranges to check which value is best value\n",
    "\n",
    "#Model = SARIMA\n",
    "#Model input time series = ts_diff\n",
    "#(p,d,q) = (1,1,1)\n",
    "#(P,D,Q,T) = (1,0,1,12)"
   ]
  },
  {
   "cell_type": "code",
   "execution_count": 143,
   "id": "1cb74559",
   "metadata": {},
   "outputs": [],
   "source": [
    "train = ts[:'2019-01-01']\n",
    "test = ts['2019-02-01':]"
   ]
  },
  {
   "cell_type": "code",
   "execution_count": 144,
   "id": "02b3da46",
   "metadata": {},
   "outputs": [],
   "source": [
    "import statsmodels.api as sm\n",
    "\n",
    "model = sm.tsa.statespace.SARIMAX(train, order = (1,1,1), seasonal_order= (1,0,1,12),\n",
    "                                             enforce_stationarity=False,\n",
    "                                             enforce_invertibility=False).fit()"
   ]
  },
  {
   "cell_type": "code",
   "execution_count": 145,
   "id": "e344aa30",
   "metadata": {},
   "outputs": [
    {
     "name": "stdout",
     "output_type": "stream",
     "text": [
      "                                     SARIMAX Results                                      \n",
      "==========================================================================================\n",
      "Dep. Variable:       Electricty_Consumption_in_TW   No. Observations:                  553\n",
      "Model:             SARIMAX(1, 1, 1)x(1, 0, 1, 12)   Log Likelihood               -1078.337\n",
      "Date:                            Thu, 17 Mar 2022   AIC                           2166.675\n",
      "Time:                                    11:53:54   BIC                           2188.114\n",
      "Sample:                                01-01-1973   HQIC                          2175.061\n",
      "                                     - 01-01-2019                                         \n",
      "Covariance Type:                              opg                                         \n",
      "==============================================================================\n",
      "                 coef    std err          z      P>|z|      [0.025      0.975]\n",
      "------------------------------------------------------------------------------\n",
      "ar.L1          0.5738      0.048     11.945      0.000       0.480       0.668\n",
      "ma.L1         -0.9059      0.027    -33.985      0.000      -0.958      -0.854\n",
      "ar.S.L12       1.0236      0.002    432.698      0.000       1.019       1.028\n",
      "ma.S.L12      -0.8306      0.026    -31.500      0.000      -0.882      -0.779\n",
      "sigma2         3.1346      0.154     20.354      0.000       2.833       3.436\n",
      "===================================================================================\n",
      "Ljung-Box (L1) (Q):                   0.64   Jarque-Bera (JB):                35.22\n",
      "Prob(Q):                              0.43   Prob(JB):                         0.00\n",
      "Heteroskedasticity (H):               4.10   Skew:                            -0.10\n",
      "Prob(H) (two-sided):                  0.00   Kurtosis:                         4.24\n",
      "===================================================================================\n",
      "\n",
      "Warnings:\n",
      "[1] Covariance matrix calculated using the outer product of gradients (complex-step).\n"
     ]
    }
   ],
   "source": [
    "print(model.summary())"
   ]
  },
  {
   "cell_type": "code",
   "execution_count": 146,
   "id": "a7e3c0f0",
   "metadata": {},
   "outputs": [],
   "source": [
    "f_cast = model.forecast(6)\n",
    "pred=model.fittevalues[':2019-01-01']"
   ]
  },
  {
   "cell_type": "code",
   "execution_count": 159,
   "id": "de00234e",
   "metadata": {},
   "outputs": [],
   "source": [
    "act_test = test\n",
    "act_train=train"
   ]
  },
  {
   "cell_type": "code",
   "execution_count": 160,
   "id": "3e061226",
   "metadata": {},
   "outputs": [
    {
     "name": "stdout",
     "output_type": "stream",
     "text": [
      "train_error: 0.020505323618451383\n"
     ]
    }
   ],
   "source": [
    "print('train_error:', np.mean(np.abs(act_train-pred)/act))"
   ]
  },
  {
   "cell_type": "code",
   "execution_count": 148,
   "id": "d5ce5af5",
   "metadata": {},
   "outputs": [
    {
     "name": "stdout",
     "output_type": "stream",
     "text": [
      "test_error: 0.02113690523921354\n"
     ]
    }
   ],
   "source": [
    "print('test_error:',np.mean(np.abs(act_test-f_cast)/act))"
   ]
  },
  {
   "cell_type": "code",
   "execution_count": 149,
   "id": "e17401e8",
   "metadata": {},
   "outputs": [],
   "source": [
    "pred = model.fittedvalues['2018-07-01':]\n",
    "act = ts['2018-07-01':]"
   ]
  },
  {
   "cell_type": "code",
   "execution_count": 150,
   "id": "174c38ce",
   "metadata": {},
   "outputs": [
    {
     "name": "stdout",
     "output_type": "stream",
     "text": [
      "train_error_last1year: 0.018323308526493116\n"
     ]
    }
   ],
   "source": [
    "print('train_error_last1year:', np.mean(np.abs(act-pred)/act))"
   ]
  },
  {
   "cell_type": "code",
   "execution_count": 161,
   "id": "3601594d",
   "metadata": {},
   "outputs": [],
   "source": [
    "import sys\n",
    "import itertools\n",
    "import warnings\n",
    "\n",
    "def auto_arima(timeseries, regressors=None, p=range(0, 2), d=range(0, 2), q=range(0, 2),\n",
    "              P=range(0, 2), D=range(0, 1), Q=range(0, 2)):\n",
    "\n",
    "    # Generate all different combinations of p, d and q triplets\n",
    "    pdq = list(itertools.product(p, d, q))\n",
    "\n",
    "    # Generate all different combinations of seasonal p, q and q triplets\n",
    "    seasonal_pdq = [(x[0], x[1], x[2], 12) for x in list(itertools.product(P, D, Q))]\n",
    "    \n",
    "    warnings.filterwarnings(\"ignore\") # specify to ignore warning messages\n",
    "\n",
    "    best_aic = np.inf\n",
    "    best_pdq = None\n",
    "    best_seasonal_pdq = None\n",
    "    best_results = None\n",
    "    \n",
    "    for param in pdq:\n",
    "        for param_seasonal in seasonal_pdq:\n",
    "\n",
    "            try:\n",
    "                temp_model = sm.tsa.statespace.SARIMAX(endog=timeseries,\n",
    "                                                 exog=regressors,\n",
    "                                                 order = param,\n",
    "                                                 seasonal_order = param_seasonal,\n",
    "                                                 enforce_stationarity=False,\n",
    "                                                 enforce_invertibility=False)\n",
    "                temp_results = temp_model.fit()\n",
    "\n",
    "                print(\"SARIMAX{}x{}12 - AIC:{}\".format(param, param_seasonal, temp_results.aic))\n",
    "                \n",
    "                if temp_results.aic < best_aic:\n",
    "                    best_aic = temp_results.aic\n",
    "                    best_pdq = param\n",
    "                    best_seasonal_pdq = param_seasonal\n",
    "                    best_results = temp_results\n",
    "                \n",
    "            except:\n",
    "                #print(\"Unexpected error:\", sys.exc_info()[0])\n",
    "                continue\n",
    "    print(\"Best SARIMAX{}x{}12 model - AIC:{}\".format(best_pdq, best_seasonal_pdq, best_aic))\n",
    "    print(best_results.summary().tables[0])\n",
    "    print(best_results.summary().tables[1])\n",
    "    #return best_results"
   ]
  },
  {
   "cell_type": "code",
   "execution_count": 152,
   "id": "702afe03",
   "metadata": {},
   "outputs": [
    {
     "name": "stdout",
     "output_type": "stream",
     "text": [
      "SARIMAX(0, 2, 0)x(0, 0, 0, 12)12 - AIC:3721.1123741864717\n",
      "SARIMAX(0, 2, 0)x(0, 0, 1, 12)12 - AIC:3326.740042821425\n",
      "SARIMAX(0, 2, 0)x(0, 1, 0, 12)12 - AIC:2995.1848121832327\n",
      "SARIMAX(0, 2, 0)x(0, 1, 1, 12)12 - AIC:2705.927572962568\n",
      "SARIMAX(0, 2, 0)x(1, 0, 0, 12)12 - AIC:2971.004260264479\n",
      "SARIMAX(0, 2, 0)x(1, 0, 1, 12)12 - AIC:2735.6373076884915\n",
      "SARIMAX(0, 2, 0)x(1, 1, 0, 12)12 - AIC:2841.5161920435057\n",
      "SARIMAX(0, 2, 0)x(1, 1, 1, 12)12 - AIC:2707.927495859394\n",
      "SARIMAX(0, 2, 1)x(0, 0, 0, 12)12 - AIC:3663.827650997576\n",
      "SARIMAX(0, 2, 1)x(0, 0, 1, 12)12 - AIC:3323.5894704269504\n",
      "SARIMAX(0, 2, 1)x(0, 1, 0, 12)12 - AIC:2526.0450902839243\n",
      "SARIMAX(0, 2, 1)x(0, 1, 1, 12)12 - AIC:2278.5268595669163\n",
      "SARIMAX(0, 2, 1)x(1, 0, 0, 12)12 - AIC:2527.2268365849677\n",
      "SARIMAX(0, 2, 1)x(1, 0, 1, 12)12 - AIC:2290.1751691100308\n",
      "SARIMAX(0, 2, 1)x(1, 1, 0, 12)12 - AIC:2394.36335601257\n",
      "SARIMAX(0, 2, 1)x(1, 1, 1, 12)12 - AIC:2280.5268997177054\n",
      "SARIMAX(1, 2, 0)x(0, 0, 0, 12)12 - AIC:3695.590239663525\n",
      "SARIMAX(1, 2, 0)x(0, 0, 1, 12)12 - AIC:3328.6576800288376\n",
      "SARIMAX(1, 2, 0)x(0, 1, 0, 12)12 - AIC:2858.922777662485\n",
      "SARIMAX(1, 2, 0)x(0, 1, 1, 12)12 - AIC:2586.09269924514\n",
      "SARIMAX(1, 2, 0)x(1, 0, 0, 12)12 - AIC:2848.2139616794484\n",
      "SARIMAX(1, 2, 0)x(1, 0, 1, 12)12 - AIC:2599.5267866727\n",
      "SARIMAX(1, 2, 0)x(1, 1, 0, 12)12 - AIC:2703.0119316063183\n",
      "SARIMAX(1, 2, 0)x(1, 1, 1, 12)12 - AIC:2588.092541847241\n",
      "SARIMAX(1, 2, 1)x(0, 0, 0, 12)12 - AIC:3540.167907325508\n",
      "SARIMAX(1, 2, 1)x(0, 0, 1, 12)12 - AIC:3103.3355281159506\n",
      "SARIMAX(1, 2, 1)x(0, 1, 0, 12)12 - AIC:2508.5996915487003\n",
      "SARIMAX(1, 2, 1)x(0, 1, 1, 12)12 - AIC:2269.6556527551834\n",
      "SARIMAX(1, 2, 1)x(1, 0, 0, 12)12 - AIC:2508.6606369136\n",
      "SARIMAX(1, 2, 1)x(1, 0, 1, 12)12 - AIC:2278.3453024998394\n",
      "SARIMAX(1, 2, 1)x(1, 1, 0, 12)12 - AIC:2376.1119168027617\n",
      "SARIMAX(1, 2, 1)x(1, 1, 1, 12)12 - AIC:2271.655756646537\n",
      "Best SARIMAX(1, 2, 1)x(0, 1, 1, 12)12 model - AIC:2269.6556527551834\n",
      "                                     SARIMAX Results                                      \n",
      "==========================================================================================\n",
      "Dep. Variable:       Electricty_Consumption_in_TW   No. Observations:                  561\n",
      "Model:             SARIMAX(1, 2, 1)x(0, 1, 1, 12)   Log Likelihood               -1130.828\n",
      "Date:                            Thu, 17 Mar 2022   AIC                           2269.656\n",
      "Time:                                    11:54:43   BIC                           2286.770\n",
      "Sample:                                01-01-1973   HQIC                          2276.353\n",
      "                                     - 09-01-2019                                         \n",
      "Covariance Type:                              opg                                         \n",
      "==========================================================================================\n",
      "==============================================================================\n",
      "                 coef    std err          z      P>|z|      [0.025      0.975]\n",
      "------------------------------------------------------------------------------\n",
      "ar.L1         -0.1398      0.044     -3.183      0.001      -0.226      -0.054\n",
      "ma.L1         -1.0000     64.065     -0.016      0.988    -126.566     124.566\n",
      "ma.S.L12      -0.6981      0.029    -23.821      0.000      -0.756      -0.641\n",
      "sigma2         4.0082    256.778      0.016      0.988    -499.267     507.283\n",
      "==============================================================================\n"
     ]
    }
   ],
   "source": [
    "best_results = auto_arima(ts,  p=range(0, 2), d=range(2, 3), q=range(0, 2),\n",
    "                         P=range(0, 2), D=range(0, 2), Q=range(0, 2))  "
   ]
  },
  {
   "cell_type": "code",
   "execution_count": 153,
   "id": "09d6f6ac",
   "metadata": {},
   "outputs": [
    {
     "name": "stdout",
     "output_type": "stream",
     "text": [
      "                                     SARIMAX Results                                      \n",
      "==========================================================================================\n",
      "Dep. Variable:       Electricty_Consumption_in_TW   No. Observations:                  553\n",
      "Model:             SARIMAX(1, 1, 1)x(1, 0, 1, 12)   Log Likelihood               -1078.337\n",
      "Date:                            Thu, 17 Mar 2022   AIC                           2166.675\n",
      "Time:                                    11:57:34   BIC                           2188.114\n",
      "Sample:                                01-01-1973   HQIC                          2175.061\n",
      "                                     - 01-01-2019                                         \n",
      "Covariance Type:                              opg                                         \n",
      "==============================================================================\n",
      "                 coef    std err          z      P>|z|      [0.025      0.975]\n",
      "------------------------------------------------------------------------------\n",
      "ar.L1          0.5738      0.048     11.945      0.000       0.480       0.668\n",
      "ma.L1         -0.9059      0.027    -33.985      0.000      -0.958      -0.854\n",
      "ar.S.L12       1.0236      0.002    432.698      0.000       1.019       1.028\n",
      "ma.S.L12      -0.8306      0.026    -31.500      0.000      -0.882      -0.779\n",
      "sigma2         3.1346      0.154     20.354      0.000       2.833       3.436\n",
      "===================================================================================\n",
      "Ljung-Box (L1) (Q):                   0.64   Jarque-Bera (JB):                35.22\n",
      "Prob(Q):                              0.43   Prob(JB):                         0.00\n",
      "Heteroskedasticity (H):               4.10   Skew:                            -0.10\n",
      "Prob(H) (two-sided):                  0.00   Kurtosis:                         4.24\n",
      "===================================================================================\n",
      "\n",
      "Warnings:\n",
      "[1] Covariance matrix calculated using the outer product of gradients (complex-step).\n"
     ]
    }
   ],
   "source": [
    "import statsmodels.api as sm\n",
    "\n",
    "model1 = sm.tsa.statespace.SARIMAX(train, order = (1,2,1), seasonal_order= (0,1,1,12),\n",
    "                                             enforce_stationarity=False,\n",
    "                                             enforce_invertibility=False).fit()\n",
    "\n",
    "print(model.summary())"
   ]
  },
  {
   "cell_type": "code",
   "execution_count": 168,
   "id": "8995a30c",
   "metadata": {},
   "outputs": [],
   "source": [
    "f_cast1 = model1.forecast(24)"
   ]
  },
  {
   "cell_type": "code",
   "execution_count": 169,
   "id": "f17a93f5",
   "metadata": {},
   "outputs": [],
   "source": [
    "act1 = test"
   ]
  },
  {
   "cell_type": "code",
   "execution_count": 170,
   "id": "d3b2b7fc",
   "metadata": {},
   "outputs": [
    {
     "name": "stdout",
     "output_type": "stream",
     "text": [
      "test_error: 0.030522013129085517\n"
     ]
    }
   ],
   "source": [
    "print('test_error:',np.mean(np.abs(act-f_cast)/act))"
   ]
  },
  {
   "cell_type": "code",
   "execution_count": 171,
   "id": "38341ca4",
   "metadata": {},
   "outputs": [],
   "source": [
    "pred1 = model1.fittedvalues['2018-07-01':]\n",
    "act2 = ts['2018-07-01':]"
   ]
  },
  {
   "cell_type": "code",
   "execution_count": 172,
   "id": "1fd95aa2",
   "metadata": {},
   "outputs": [
    {
     "name": "stdout",
     "output_type": "stream",
     "text": [
      "train_error_last1year: 0.020505323618451383\n"
     ]
    }
   ],
   "source": [
    "print('train_error_last1year:', np.mean(np.abs(act-pred)/act))"
   ]
  },
  {
   "cell_type": "code",
   "execution_count": 173,
   "id": "1c8b918e",
   "metadata": {},
   "outputs": [
    {
     "data": {
      "text/plain": [
       "DATE\n",
       "1973-01-01     35\n",
       "1973-02-01     36\n",
       "1973-03-01     35\n",
       "1973-04-01     33\n",
       "1973-05-01     33\n",
       "             ... \n",
       "2019-05-01     97\n",
       "2019-06-01    110\n",
       "2019-07-01    122\n",
       "2019-08-01    121\n",
       "2019-09-01    109\n",
       "Name: Electricty_Consumption_in_TW, Length: 561, dtype: int64"
      ]
     },
     "execution_count": 173,
     "metadata": {},
     "output_type": "execute_result"
    }
   ],
   "source": [
    "ts"
   ]
  },
  {
   "cell_type": "code",
   "execution_count": 174,
   "id": "94fd26aa",
   "metadata": {},
   "outputs": [
    {
     "data": {
      "text/plain": [
       "[<matplotlib.lines.Line2D at 0x1860e3af1f0>]"
      ]
     },
     "execution_count": 174,
     "metadata": {},
     "output_type": "execute_result"
    },
    {
     "data": {
      "image/png": "[encoded data removed]",
      "text/plain": [
       "<Figure size 432x288 with 1 Axes>"
      ]
     },
     "metadata": {
      "needs_background": "light"
     },
     "output_type": "display_data"
    }
   ],
   "source": [
    "import matplotlib.pyplot as plt\n",
    "plt.plot(ts, '-', label='obs')\n",
    "plt.plot(f_cast1, '-', label=f_cast)"
   ]
  },
  {
   "cell_type": "code",
   "execution_count": 175,
   "id": "2217f340",
   "metadata": {},
   "outputs": [
    {
     "data": {
      "image/png": "[encoded data removed]",
      "text/plain": [
       "<Figure size 1152x864 with 4 Axes>"
      ]
     },
     "metadata": {
      "needs_background": "light"
     },
     "output_type": "display_data"
    }
   ],
   "source": [
    "model1.plot_diagnostics(lags=24, figsize=(16,12))\n",
    "plt.show()\n",
    "\n",
    "#Errors should follow normal distribution\n",
    "#ACF of Errors - Error series should be white noise/random walk- There is no auto correlation among errors"
   ]
  },
  {
   "cell_type": "markdown",
   "id": "18b96eee",
   "metadata": {},
   "source": [
    "# Multivariate Time series with SARIMAX Model"
   ]
  },
  {
   "cell_type": "code",
   "execution_count": 176,
   "id": "7c675e0a",
   "metadata": {},
   "outputs": [
    {
     "data": {
      "text/html": [
       "<div>\n",
       "<style scoped>\n",
       "    .dataframe tbody tr th:only-of-type {\n",
       "        vertical-align: middle;\n",
       "    }\n",
       "\n",
       "    .dataframe tbody tr th {\n",
       "        vertical-align: top;\n",
       "    }\n",
       "\n",
       "    .dataframe thead th {\n",
       "        text-align: right;\n",
       "    }\n",
       "</style>\n",
       "<table border=\"1\" class=\"dataframe\">\n",
       "  <thead>\n",
       "    <tr style=\"text-align: right;\">\n",
       "      <th></th>\n",
       "      <th>Date</th>\n",
       "      <th>Sales</th>\n",
       "      <th>Marketing Expense</th>\n",
       "      <th>Year</th>\n",
       "      <th>Month</th>\n",
       "      <th>Quarter</th>\n",
       "    </tr>\n",
       "    <tr>\n",
       "      <th>Date</th>\n",
       "      <th></th>\n",
       "      <th></th>\n",
       "      <th></th>\n",
       "      <th></th>\n",
       "      <th></th>\n",
       "      <th></th>\n",
       "    </tr>\n",
       "  </thead>\n",
       "  <tbody>\n",
       "    <tr>\n",
       "      <th>2011-01-01</th>\n",
       "      <td>2011-01-01</td>\n",
       "      <td>397</td>\n",
       "      <td>486.64</td>\n",
       "      <td>2011</td>\n",
       "      <td>1</td>\n",
       "      <td>1</td>\n",
       "    </tr>\n",
       "    <tr>\n",
       "      <th>2011-02-01</th>\n",
       "      <td>2011-02-01</td>\n",
       "      <td>400</td>\n",
       "      <td>501.80</td>\n",
       "      <td>2011</td>\n",
       "      <td>2</td>\n",
       "      <td>1</td>\n",
       "    </tr>\n",
       "    <tr>\n",
       "      <th>2011-03-01</th>\n",
       "      <td>2011-03-01</td>\n",
       "      <td>498</td>\n",
       "      <td>437.09</td>\n",
       "      <td>2011</td>\n",
       "      <td>3</td>\n",
       "      <td>1</td>\n",
       "    </tr>\n",
       "    <tr>\n",
       "      <th>2011-04-01</th>\n",
       "      <td>2011-04-01</td>\n",
       "      <td>536</td>\n",
       "      <td>565.16</td>\n",
       "      <td>2011</td>\n",
       "      <td>4</td>\n",
       "      <td>2</td>\n",
       "    </tr>\n",
       "    <tr>\n",
       "      <th>2011-05-01</th>\n",
       "      <td>2011-05-01</td>\n",
       "      <td>596</td>\n",
       "      <td>744.15</td>\n",
       "      <td>2011</td>\n",
       "      <td>5</td>\n",
       "      <td>2</td>\n",
       "    </tr>\n",
       "  </tbody>\n",
       "</table>\n",
       "</div>"
      ],
      "text/plain": [
       "                 Date  Sales  Marketing Expense  Year  Month  Quarter\n",
       "Date                                                                 \n",
       "2011-01-01 2011-01-01    397             486.64  2011      1        1\n",
       "2011-02-01 2011-02-01    400             501.80  2011      2        1\n",
       "2011-03-01 2011-03-01    498             437.09  2011      3        1\n",
       "2011-04-01 2011-04-01    536             565.16  2011      4        2\n",
       "2011-05-01 2011-05-01    596             744.15  2011      5        2"
      ]
     },
     "execution_count": 176,
     "metadata": {},
     "output_type": "execute_result"
    }
   ],
   "source": [
    "df_marketting.head()"
   ]
  },
  {
   "cell_type": "code",
   "execution_count": 177,
   "id": "0ec523a3",
   "metadata": {},
   "outputs": [],
   "source": [
    "df_marketting.drop('Date',axis=1,inplace=True)"
   ]
  },
  {
   "cell_type": "code",
   "execution_count": 178,
   "id": "94c8d1a7",
   "metadata": {},
   "outputs": [
    {
     "data": {
      "text/html": [
       "<div>\n",
       "<style scoped>\n",
       "    .dataframe tbody tr th:only-of-type {\n",
       "        vertical-align: middle;\n",
       "    }\n",
       "\n",
       "    .dataframe tbody tr th {\n",
       "        vertical-align: top;\n",
       "    }\n",
       "\n",
       "    .dataframe thead th {\n",
       "        text-align: right;\n",
       "    }\n",
       "</style>\n",
       "<table border=\"1\" class=\"dataframe\">\n",
       "  <thead>\n",
       "    <tr style=\"text-align: right;\">\n",
       "      <th></th>\n",
       "      <th>Sales</th>\n",
       "      <th>Marketing Expense</th>\n",
       "      <th>Year</th>\n",
       "      <th>Month</th>\n",
       "      <th>Quarter</th>\n",
       "    </tr>\n",
       "    <tr>\n",
       "      <th>Date</th>\n",
       "      <th></th>\n",
       "      <th></th>\n",
       "      <th></th>\n",
       "      <th></th>\n",
       "      <th></th>\n",
       "    </tr>\n",
       "  </thead>\n",
       "  <tbody>\n",
       "    <tr>\n",
       "      <th>2011-01-01</th>\n",
       "      <td>397</td>\n",
       "      <td>486.64</td>\n",
       "      <td>2011</td>\n",
       "      <td>1</td>\n",
       "      <td>1</td>\n",
       "    </tr>\n",
       "    <tr>\n",
       "      <th>2011-02-01</th>\n",
       "      <td>400</td>\n",
       "      <td>501.80</td>\n",
       "      <td>2011</td>\n",
       "      <td>2</td>\n",
       "      <td>1</td>\n",
       "    </tr>\n",
       "    <tr>\n",
       "      <th>2011-03-01</th>\n",
       "      <td>498</td>\n",
       "      <td>437.09</td>\n",
       "      <td>2011</td>\n",
       "      <td>3</td>\n",
       "      <td>1</td>\n",
       "    </tr>\n",
       "    <tr>\n",
       "      <th>2011-04-01</th>\n",
       "      <td>536</td>\n",
       "      <td>565.16</td>\n",
       "      <td>2011</td>\n",
       "      <td>4</td>\n",
       "      <td>2</td>\n",
       "    </tr>\n",
       "    <tr>\n",
       "      <th>2011-05-01</th>\n",
       "      <td>596</td>\n",
       "      <td>744.15</td>\n",
       "      <td>2011</td>\n",
       "      <td>5</td>\n",
       "      <td>2</td>\n",
       "    </tr>\n",
       "  </tbody>\n",
       "</table>\n",
       "</div>"
      ],
      "text/plain": [
       "            Sales  Marketing Expense  Year  Month  Quarter\n",
       "Date                                                      \n",
       "2011-01-01    397             486.64  2011      1        1\n",
       "2011-02-01    400             501.80  2011      2        1\n",
       "2011-03-01    498             437.09  2011      3        1\n",
       "2011-04-01    536             565.16  2011      4        2\n",
       "2011-05-01    596             744.15  2011      5        2"
      ]
     },
     "execution_count": 178,
     "metadata": {},
     "output_type": "execute_result"
    }
   ],
   "source": [
    "df_marketting.head()"
   ]
  },
  {
   "cell_type": "code",
   "execution_count": 179,
   "id": "213792a2",
   "metadata": {},
   "outputs": [],
   "source": [
    "yt=df_marketting.Sales"
   ]
  },
  {
   "cell_type": "code",
   "execution_count": 180,
   "id": "a7df9f0f",
   "metadata": {},
   "outputs": [
    {
     "data": {
      "text/plain": [
       "<AxesSubplot:xlabel='Date'>"
      ]
     },
     "execution_count": 180,
     "metadata": {},
     "output_type": "execute_result"
    },
    {
     "data": {
      "image/png": "[encoded data removed]",
      "text/plain": [
       "<Figure size 432x288 with 1 Axes>"
      ]
     },
     "metadata": {
      "needs_background": "light"
     },
     "output_type": "display_data"
    }
   ],
   "source": [
    "yt.plot()"
   ]
  },
  {
   "cell_type": "code",
   "execution_count": 181,
   "id": "6263348a",
   "metadata": {},
   "outputs": [],
   "source": [
    "#decom = seasonal_decompose(ts, model='multiplicative')\n",
    "decom = seasonal_decompose(yt, model='additive')"
   ]
  },
  {
   "cell_type": "code",
   "execution_count": 182,
   "id": "586c8896",
   "metadata": {},
   "outputs": [
    {
     "data": {
      "image/png": "[encoded data removed]",
      "text/plain": [
       "<Figure size 432x288 with 4 Axes>"
      ]
     },
     "execution_count": 182,
     "metadata": {},
     "output_type": "execute_result"
    },
    {
     "data": {
      "image/png": "[encoded data removed]",
      "text/plain": [
       "<Figure size 432x288 with 4 Axes>"
      ]
     },
     "metadata": {
      "needs_background": "light"
     },
     "output_type": "display_data"
    }
   ],
   "source": [
    "decom.plot()"
   ]
  },
  {
   "cell_type": "code",
   "execution_count": 183,
   "id": "3d1ebe4b",
   "metadata": {},
   "outputs": [
    {
     "data": {
      "text/plain": [
       "(1.4343335103140364,\n",
       " 0.997264666247424,\n",
       " 10,\n",
       " 37,\n",
       " {'1%': -3.6209175221605827,\n",
       "  '5%': -2.9435394610388332,\n",
       "  '10%': -2.6104002410518627},\n",
       " 374.79666100289796)"
      ]
     },
     "execution_count": 183,
     "metadata": {},
     "output_type": "execute_result"
    }
   ],
   "source": [
    "#Checking Stationarity\n",
    "adfuller(yt)"
   ]
  },
  {
   "cell_type": "code",
   "execution_count": 184,
   "id": "6ab820c9",
   "metadata": {},
   "outputs": [],
   "source": [
    "yt_diff = yt.diff().dropna() #taking a differencing with 1"
   ]
  },
  {
   "cell_type": "code",
   "execution_count": 185,
   "id": "7d6c1f0e",
   "metadata": {},
   "outputs": [
    {
     "data": {
      "text/plain": [
       "(-7.015650419745946,\n",
       " 6.743731035461271e-10,\n",
       " 10,\n",
       " 36,\n",
       " {'1%': -3.626651907578875,\n",
       "  '5%': -2.9459512825788754,\n",
       "  '10%': -2.6116707716049383},\n",
       " 361.3167752934369)"
      ]
     },
     "execution_count": 185,
     "metadata": {},
     "output_type": "execute_result"
    }
   ],
   "source": [
    "adfuller(yt_diff) # P value is less than 0.05, the series is stationary"
   ]
  },
  {
   "cell_type": "code",
   "execution_count": 190,
   "id": "68aa64d8",
   "metadata": {},
   "outputs": [
    {
     "data": {
      "image/png": "[encoded data removed]",
      "text/plain": [
       "<Figure size 432x288 with 1 Axes>"
      ]
     },
     "execution_count": 190,
     "metadata": {},
     "output_type": "execute_result"
    },
    {
     "data": {
      "image/png": "[encoded data removed]",
      "text/plain": [
       "<Figure size 432x288 with 1 Axes>"
      ]
     },
     "metadata": {
      "needs_background": "light"
     },
     "output_type": "display_data"
    }
   ],
   "source": [
    "#checking for p, q values with acf and pacf plots\n",
    "smt.graphics.plot_acf(yt_diff), # value of q=1"
   ]
  },
  {
   "cell_type": "code",
   "execution_count": 191,
   "id": "6290d185",
   "metadata": {},
   "outputs": [
    {
     "data": {
      "image/png": "[encoded data removed]",
      "text/plain": [
       "<Figure size 432x288 with 1 Axes>"
      ]
     },
     "execution_count": 191,
     "metadata": {},
     "output_type": "execute_result"
    },
    {
     "data": {
      "image/png": "[encoded data removed]",
      "text/plain": [
       "<Figure size 432x288 with 1 Axes>"
      ]
     },
     "metadata": {
      "needs_background": "light"
     },
     "output_type": "display_data"
    }
   ],
   "source": [
    "smt.graphics.plot_pacf(yt_diff) # value of p=1"
   ]
  },
  {
   "cell_type": "code",
   "execution_count": null,
   "id": "e7f277ab",
   "metadata": {},
   "outputs": [],
   "source": [
    "#p=1, q=1, d=1, Yt=Sales, SARIMA, P=1, D=0, Q =1"
   ]
  },
  {
   "cell_type": "code",
   "execution_count": 207,
   "id": "bcc14c72",
   "metadata": {},
   "outputs": [
    {
     "data": {
      "text/html": [
       "<div>\n",
       "<style scoped>\n",
       "    .dataframe tbody tr th:only-of-type {\n",
       "        vertical-align: middle;\n",
       "    }\n",
       "\n",
       "    .dataframe tbody tr th {\n",
       "        vertical-align: top;\n",
       "    }\n",
       "\n",
       "    .dataframe thead th {\n",
       "        text-align: right;\n",
       "    }\n",
       "</style>\n",
       "<table border=\"1\" class=\"dataframe\">\n",
       "  <thead>\n",
       "    <tr style=\"text-align: right;\">\n",
       "      <th></th>\n",
       "      <th>Sales</th>\n",
       "      <th>Marketing Expense</th>\n",
       "      <th>Year</th>\n",
       "      <th>Month</th>\n",
       "      <th>Quarter</th>\n",
       "    </tr>\n",
       "    <tr>\n",
       "      <th>Date</th>\n",
       "      <th></th>\n",
       "      <th></th>\n",
       "      <th></th>\n",
       "      <th></th>\n",
       "      <th></th>\n",
       "    </tr>\n",
       "  </thead>\n",
       "  <tbody>\n",
       "    <tr>\n",
       "      <th>2011-01-01</th>\n",
       "      <td>397</td>\n",
       "      <td>486.64</td>\n",
       "      <td>2011</td>\n",
       "      <td>1</td>\n",
       "      <td>1</td>\n",
       "    </tr>\n",
       "    <tr>\n",
       "      <th>2011-02-01</th>\n",
       "      <td>400</td>\n",
       "      <td>501.80</td>\n",
       "      <td>2011</td>\n",
       "      <td>2</td>\n",
       "      <td>1</td>\n",
       "    </tr>\n",
       "    <tr>\n",
       "      <th>2011-03-01</th>\n",
       "      <td>498</td>\n",
       "      <td>437.09</td>\n",
       "      <td>2011</td>\n",
       "      <td>3</td>\n",
       "      <td>1</td>\n",
       "    </tr>\n",
       "    <tr>\n",
       "      <th>2011-04-01</th>\n",
       "      <td>536</td>\n",
       "      <td>565.16</td>\n",
       "      <td>2011</td>\n",
       "      <td>4</td>\n",
       "      <td>2</td>\n",
       "    </tr>\n",
       "    <tr>\n",
       "      <th>2011-05-01</th>\n",
       "      <td>596</td>\n",
       "      <td>744.15</td>\n",
       "      <td>2011</td>\n",
       "      <td>5</td>\n",
       "      <td>2</td>\n",
       "    </tr>\n",
       "  </tbody>\n",
       "</table>\n",
       "</div>"
      ],
      "text/plain": [
       "            Sales  Marketing Expense  Year  Month  Quarter\n",
       "Date                                                      \n",
       "2011-01-01    397             486.64  2011      1        1\n",
       "2011-02-01    400             501.80  2011      2        1\n",
       "2011-03-01    498             437.09  2011      3        1\n",
       "2011-04-01    536             565.16  2011      4        2\n",
       "2011-05-01    596             744.15  2011      5        2"
      ]
     },
     "execution_count": 207,
     "metadata": {},
     "output_type": "execute_result"
    }
   ],
   "source": [
    "df_marketting.tail()"
   ]
  },
  {
   "cell_type": "code",
   "execution_count": 192,
   "id": "22409475",
   "metadata": {},
   "outputs": [
    {
     "data": {
      "text/html": [
       "<div>\n",
       "<style scoped>\n",
       "    .dataframe tbody tr th:only-of-type {\n",
       "        vertical-align: middle;\n",
       "    }\n",
       "\n",
       "    .dataframe tbody tr th {\n",
       "        vertical-align: top;\n",
       "    }\n",
       "\n",
       "    .dataframe thead th {\n",
       "        text-align: right;\n",
       "    }\n",
       "</style>\n",
       "<table border=\"1\" class=\"dataframe\">\n",
       "  <thead>\n",
       "    <tr style=\"text-align: right;\">\n",
       "      <th></th>\n",
       "      <th>Sales</th>\n",
       "      <th>Marketing Expense</th>\n",
       "      <th>Year</th>\n",
       "      <th>Month</th>\n",
       "      <th>Quarter</th>\n",
       "    </tr>\n",
       "  </thead>\n",
       "  <tbody>\n",
       "    <tr>\n",
       "      <th>Sales</th>\n",
       "      <td>1.000000</td>\n",
       "      <td>0.800679</td>\n",
       "      <td>4.769335e-01</td>\n",
       "      <td>7.027560e-02</td>\n",
       "      <td>7.386513e-02</td>\n",
       "    </tr>\n",
       "    <tr>\n",
       "      <th>Marketing Expense</th>\n",
       "      <td>0.800679</td>\n",
       "      <td>1.000000</td>\n",
       "      <td>2.839106e-01</td>\n",
       "      <td>2.170619e-01</td>\n",
       "      <td>1.923335e-01</td>\n",
       "    </tr>\n",
       "    <tr>\n",
       "      <th>Year</th>\n",
       "      <td>0.476934</td>\n",
       "      <td>0.283911</td>\n",
       "      <td>1.000000e+00</td>\n",
       "      <td>4.864312e-14</td>\n",
       "      <td>4.651834e-14</td>\n",
       "    </tr>\n",
       "    <tr>\n",
       "      <th>Month</th>\n",
       "      <td>0.070276</td>\n",
       "      <td>0.217062</td>\n",
       "      <td>4.864312e-14</td>\n",
       "      <td>1.000000e+00</td>\n",
       "      <td>9.716254e-01</td>\n",
       "    </tr>\n",
       "    <tr>\n",
       "      <th>Quarter</th>\n",
       "      <td>0.073865</td>\n",
       "      <td>0.192333</td>\n",
       "      <td>4.651834e-14</td>\n",
       "      <td>9.716254e-01</td>\n",
       "      <td>1.000000e+00</td>\n",
       "    </tr>\n",
       "  </tbody>\n",
       "</table>\n",
       "</div>"
      ],
      "text/plain": [
       "                      Sales  Marketing Expense          Year         Month  \\\n",
       "Sales              1.000000           0.800679  4.769335e-01  7.027560e-02   \n",
       "Marketing Expense  0.800679           1.000000  2.839106e-01  2.170619e-01   \n",
       "Year               0.476934           0.283911  1.000000e+00  4.864312e-14   \n",
       "Month              0.070276           0.217062  4.864312e-14  1.000000e+00   \n",
       "Quarter            0.073865           0.192333  4.651834e-14  9.716254e-01   \n",
       "\n",
       "                        Quarter  \n",
       "Sales              7.386513e-02  \n",
       "Marketing Expense  1.923335e-01  \n",
       "Year               4.651834e-14  \n",
       "Month              9.716254e-01  \n",
       "Quarter            1.000000e+00  "
      ]
     },
     "execution_count": 192,
     "metadata": {},
     "output_type": "execute_result"
    }
   ],
   "source": [
    "df_marketting.corr()"
   ]
  },
  {
   "cell_type": "code",
   "execution_count": 201,
   "id": "371677a6",
   "metadata": {},
   "outputs": [],
   "source": [
    "X = df_marketting[['Marketing Expense','Year']]\n",
    "ts = df_marketting.Sales"
   ]
  },
  {
   "cell_type": "code",
   "execution_count": 202,
   "id": "096b91f3",
   "metadata": {},
   "outputs": [],
   "source": [
    "import statsmodels.api as sm\n",
    "model = sm.tsa.statespace.SARIMAX(ts,\n",
    "                                      exog = X,\n",
    "                                      order=(1, 1, 1),\n",
    "                                      seasonal_order=(1, 0, 1, 12),\n",
    "                                      enforce_stationarity=False,\n",
    "                                      enforce_invertibility=False).fit()"
   ]
  },
  {
   "cell_type": "code",
   "execution_count": 203,
   "id": "a1871829",
   "metadata": {},
   "outputs": [
    {
     "name": "stdout",
     "output_type": "stream",
     "text": [
      "                                     SARIMAX Results                                      \n",
      "==========================================================================================\n",
      "Dep. Variable:                              Sales   No. Observations:                   48\n",
      "Model:             SARIMAX(1, 1, 1)x(1, 0, 1, 12)   Log Likelihood               -1085.898\n",
      "Date:                            Thu, 17 Mar 2022   AIC                           2185.795\n",
      "Time:                                    12:45:15   BIC                           2196.271\n",
      "Sample:                                01-01-2011   HQIC                          2189.320\n",
      "                                     - 12-01-2014                                         \n",
      "Covariance Type:                              opg                                         \n",
      "=====================================================================================\n",
      "                        coef    std err          z      P>|z|      [0.025      0.975]\n",
      "-------------------------------------------------------------------------------------\n",
      "Marketing Expense     0.0805   8500.167   9.47e-06      1.000   -1.67e+04    1.67e+04\n",
      "Year                  0.8560   1.37e+04   6.25e-05      1.000   -2.68e+04    2.68e+04\n",
      "ar.L1                 0.6270      0.140      4.482      0.000       0.353       0.901\n",
      "ma.L1                -3.5333      0.003  -1047.772      0.000      -3.540      -3.527\n",
      "ar.S.L12              0.4098      0.581      0.706      0.480      -0.728       1.548\n",
      "ma.S.L12           7.855e+13   1.16e-05   6.75e+18      0.000    7.85e+13    7.85e+13\n",
      "sigma2              175.7119     70.566      2.490      0.013      37.405     314.019\n",
      "===================================================================================\n",
      "Ljung-Box (L1) (Q):                   0.00   Jarque-Bera (JB):                16.69\n",
      "Prob(Q):                              0.95   Prob(JB):                         0.00\n",
      "Heteroskedasticity (H):               0.00   Skew:                             0.39\n",
      "Prob(H) (two-sided):                  0.00   Kurtosis:                         6.39\n",
      "===================================================================================\n",
      "\n",
      "Warnings:\n",
      "[1] Covariance matrix calculated using the outer product of gradients (complex-step).\n",
      "[2] Covariance matrix is singular or near-singular, with condition number 2.94e+32. Standard errors may be unstable.\n"
     ]
    }
   ],
   "source": [
    "print(model.summary())"
   ]
  },
  {
   "cell_type": "code",
   "execution_count": 204,
   "id": "7583d164",
   "metadata": {},
   "outputs": [],
   "source": [
    "import sys\n",
    "import itertools\n",
    "import warnings\n",
    "\n",
    "def auto_arima(timeseries, regressors=None, p=range(0, 2), d=range(0, 2), q=range(0, 2),\n",
    "              P=range(0, 2), D=range(0, 1), Q=range(0, 2)):\n",
    "\n",
    "    # Generate all different combinations of p, d and q triplets\n",
    "    pdq = list(itertools.product(p, d, q))\n",
    "\n",
    "    # Generate all different combinations of seasonal p, q and q triplets\n",
    "    seasonal_pdq = [(x[0], x[1], x[2], 12) for x in list(itertools.product(P, D, Q))]\n",
    "    \n",
    "    warnings.filterwarnings(\"ignore\") # specify to ignore warning messages\n",
    "\n",
    "    best_aic = np.inf\n",
    "    best_pdq = None\n",
    "    best_seasonal_pdq = None\n",
    "    best_results = None\n",
    "    \n",
    "    for param in pdq:\n",
    "        for param_seasonal in seasonal_pdq:\n",
    "\n",
    "            try:\n",
    "                temp_model = sm.tsa.statespace.SARIMAX(endog=timeseries,\n",
    "                                                 exog=regressors,\n",
    "                                                 order = param,\n",
    "                                                 seasonal_order = param_seasonal,\n",
    "                                                 enforce_stationarity=False,\n",
    "                                                 enforce_invertibility=False)\n",
    "                temp_results = temp_model.fit()\n",
    "\n",
    "                print(\"SARIMAX{}x{}12 - AIC:{}\".format(param, param_seasonal, temp_results.aic))\n",
    "                \n",
    "                if temp_results.aic < best_aic:\n",
    "                    best_aic = temp_results.aic\n",
    "                    best_pdq = param\n",
    "                    best_seasonal_pdq = param_seasonal\n",
    "                    best_results = temp_results\n",
    "                \n",
    "            except:\n",
    "                #print(\"Unexpected error:\", sys.exc_info()[0])\n",
    "                continue\n",
    "    print(\"Best SARIMAX{}x{}12 model - AIC:{}\".format(best_pdq, best_seasonal_pdq, best_aic))\n",
    "    print(best_results.summary().tables[0])\n",
    "    print(best_results.summary().tables[1])\n",
    "    #return best_results\n",
    "\n",
    "def auto_arima(timeseries, regressors=None, p=range(0, 2), d=range(0, 2), q=range(0, 2),\n",
    "              P=range(0, 2), D=range(0, 1), Q=range(0, 2)):\n",
    "\n",
    "    # Generate all different combinations of p, d and q triplets\n",
    "    pdq = list(itertools.product(p, d, q))\n",
    "\n",
    "    # Generate all different combinations of seasonal p, q and q triplets\n",
    "    seasonal_pdq = [(x[0], x[1], x[2], 12) for x in list(itertools.product(P, D, Q))]\n",
    "    \n",
    "    warnings.filterwarnings(\"ignore\") # specify to ignore warning messages\n",
    "\n",
    "    best_aic = np.inf\n",
    "    best_pdq = None\n",
    "    best_seasonal_pdq = None\n",
    "    best_results = None\n",
    "    \n",
    "    for param in pdq:\n",
    "        for param_seasonal in seasonal_pdq:\n",
    "\n",
    "            try:\n",
    "                temp_model = sm.tsa.statespace.SARIMAX(endog=timeseries,\n",
    "                                                 exog=regressors,\n",
    "                                                 order = param,\n",
    "                                                 seasonal_order = param_seasonal,\n",
    "                                                 enforce_stationarity=False,\n",
    "                                                 enforce_invertibility=False)\n",
    "                temp_results = temp_model.fit()\n",
    "\n",
    "                print(\"SARIMAX{}x{}12 - AIC:{}\".format(param, param_seasonal, temp_results.aic))\n",
    "                \n",
    "                if temp_results.aic < best_aic:\n",
    "                    best_aic = temp_results.aic\n",
    "                    best_pdq = param\n",
    "                    best_seasonal_pdq = param_seasonal\n",
    "                    best_results = temp_results\n",
    "                \n",
    "            except:\n",
    "                #print(\"Unexpected error:\", sys.exc_info()[0])\n",
    "                continue\n",
    "    print(\"Best SARIMAX{}x{}12 model - AIC:{}\".format(best_pdq, best_seasonal_pdq, best_aic))\n",
    "    print(best_results.summary().tables[0])\n",
    "    print(best_results.summary().tables[1])"
   ]
  },
  {
   "cell_type": "code",
   "execution_count": 205,
   "id": "1f10dd53",
   "metadata": {},
   "outputs": [
    {
     "name": "stdout",
     "output_type": "stream",
     "text": [
      "SARIMAX(0, 0, 0)x(0, 0, 0, 12)12 - AIC:540.2486363366811\n",
      "SARIMAX(0, 0, 0)x(0, 0, 1, 12)12 - AIC:1349.7753752789863\n",
      "SARIMAX(0, 0, 0)x(0, 1, 0, 12)12 - AIC:341.80292946639764\n",
      "SARIMAX(0, 0, 0)x(0, 1, 1, 12)12 - AIC:212.6129138412967\n",
      "SARIMAX(0, 0, 0)x(1, 0, 0, 12)12 - AIC:352.5288613549047\n",
      "SARIMAX(0, 0, 0)x(1, 0, 1, 12)12 - AIC:1198.1704272349725\n",
      "SARIMAX(0, 0, 0)x(1, 1, 0, 12)12 - AIC:222.49569691708342\n",
      "SARIMAX(0, 0, 0)x(1, 1, 1, 12)12 - AIC:215.59858093364497\n",
      "SARIMAX(0, 0, 1)x(0, 0, 0, 12)12 - AIC:525.474972997709\n",
      "SARIMAX(0, 0, 1)x(0, 0, 1, 12)12 - AIC:2421.7431043684774\n",
      "SARIMAX(0, 0, 1)x(0, 1, 0, 12)12 - AIC:325.8099199998772\n",
      "SARIMAX(0, 0, 1)x(0, 1, 1, 12)12 - AIC:203.86681550945042\n",
      "SARIMAX(0, 0, 1)x(1, 0, 0, 12)12 - AIC:346.40921335035176\n",
      "SARIMAX(0, 0, 1)x(1, 0, 1, 12)12 - AIC:1185.4675586382446\n",
      "SARIMAX(0, 0, 1)x(1, 1, 0, 12)12 - AIC:222.32233747259937\n",
      "SARIMAX(0, 0, 1)x(1, 1, 1, 12)12 - AIC:205.90967930169384\n",
      "SARIMAX(0, 1, 0)x(0, 0, 0, 12)12 - AIC:534.0510389646726\n",
      "SARIMAX(0, 1, 0)x(0, 0, 1, 12)12 - AIC:1424.1912551218775\n",
      "SARIMAX(0, 1, 0)x(0, 1, 0, 12)12 - AIC:323.00223891596016\n",
      "SARIMAX(0, 1, 0)x(0, 1, 1, 12)12 - AIC:216.7620829675043\n",
      "SARIMAX(0, 1, 0)x(1, 0, 0, 12)12 - AIC:331.65355927995256\n",
      "SARIMAX(0, 1, 0)x(1, 0, 1, 12)12 - AIC:1558.1891554850158\n",
      "SARIMAX(0, 1, 0)x(1, 1, 0, 12)12 - AIC:225.22998120364798\n",
      "SARIMAX(0, 1, 0)x(1, 1, 1, 12)12 - AIC:218.0027700989173\n",
      "SARIMAX(0, 1, 1)x(0, 0, 0, 12)12 - AIC:514.2908932372121\n",
      "SARIMAX(0, 1, 1)x(0, 0, 1, 12)12 - AIC:1375.3794979176287\n",
      "SARIMAX(0, 1, 1)x(0, 1, 0, 12)12 - AIC:309.97903008266996\n",
      "SARIMAX(0, 1, 1)x(0, 1, 1, 12)12 - AIC:203.3444143029138\n",
      "SARIMAX(0, 1, 1)x(1, 0, 0, 12)12 - AIC:324.178207327302\n",
      "SARIMAX(0, 1, 1)x(1, 0, 1, 12)12 - AIC:1312.6342758408682\n",
      "SARIMAX(0, 1, 1)x(1, 1, 0, 12)12 - AIC:217.07789510766403\n",
      "SARIMAX(0, 1, 1)x(1, 1, 1, 12)12 - AIC:197.45907284450251\n",
      "SARIMAX(1, 0, 0)x(0, 0, 0, 12)12 - AIC:535.714679965435\n",
      "SARIMAX(1, 0, 0)x(0, 0, 1, 12)12 - AIC:1573.2680584493314\n",
      "SARIMAX(1, 0, 0)x(0, 1, 0, 12)12 - AIC:326.97583465905973\n",
      "SARIMAX(1, 0, 0)x(0, 1, 1, 12)12 - AIC:214.05024402251544\n",
      "SARIMAX(1, 0, 0)x(1, 0, 0, 12)12 - AIC:326.2924424367132\n",
      "SARIMAX(1, 0, 0)x(1, 0, 1, 12)12 - AIC:941.5230545906315\n",
      "SARIMAX(1, 0, 0)x(1, 1, 0, 12)12 - AIC:213.97249050951052\n",
      "SARIMAX(1, 0, 0)x(1, 1, 1, 12)12 - AIC:216.95724321598945\n",
      "SARIMAX(1, 0, 1)x(0, 0, 0, 12)12 - AIC:526.1945101538065\n",
      "SARIMAX(1, 0, 1)x(0, 0, 1, 12)12 - AIC:2502.7052924525215\n",
      "SARIMAX(1, 0, 1)x(0, 1, 0, 12)12 - AIC:317.4392590906106\n",
      "SARIMAX(1, 0, 1)x(0, 1, 1, 12)12 - AIC:205.40980328536193\n",
      "SARIMAX(1, 0, 1)x(1, 0, 0, 12)12 - AIC:328.25750524967094\n",
      "SARIMAX(1, 0, 1)x(1, 0, 1, 12)12 - AIC:2347.269824151698\n",
      "SARIMAX(1, 0, 1)x(1, 1, 0, 12)12 - AIC:211.99906083855018\n",
      "SARIMAX(1, 0, 1)x(1, 1, 1, 12)12 - AIC:209.3727014707384\n",
      "SARIMAX(1, 1, 0)x(0, 0, 0, 12)12 - AIC:535.5658049164465\n",
      "SARIMAX(1, 1, 0)x(0, 0, 1, 12)12 - AIC:1205.469923840062\n",
      "SARIMAX(1, 1, 0)x(0, 1, 0, 12)12 - AIC:319.88566386696084\n",
      "SARIMAX(1, 1, 0)x(0, 1, 1, 12)12 - AIC:214.31018059883712\n",
      "SARIMAX(1, 1, 0)x(1, 0, 0, 12)12 - AIC:318.3013162225759\n",
      "SARIMAX(1, 1, 0)x(1, 0, 1, 12)12 - AIC:1399.5821269033208\n",
      "SARIMAX(1, 1, 0)x(1, 1, 0, 12)12 - AIC:214.30824325638218\n",
      "SARIMAX(1, 1, 0)x(1, 1, 1, 12)12 - AIC:216.3076229746486\n",
      "SARIMAX(1, 1, 1)x(0, 0, 0, 12)12 - AIC:514.5636799405778\n",
      "SARIMAX(1, 1, 1)x(0, 0, 1, 12)12 - AIC:1146.1942457654948\n",
      "SARIMAX(1, 1, 1)x(0, 1, 0, 12)12 - AIC:311.8671255199348\n",
      "SARIMAX(1, 1, 1)x(0, 1, 1, 12)12 - AIC:205.30885717246096\n",
      "SARIMAX(1, 1, 1)x(1, 0, 0, 12)12 - AIC:320.9414293001701\n",
      "SARIMAX(1, 1, 1)x(1, 0, 1, 12)12 - AIC:2185.7952263430843\n",
      "SARIMAX(1, 1, 1)x(1, 1, 0, 12)12 - AIC:208.16127950780873\n",
      "SARIMAX(1, 1, 1)x(1, 1, 1, 12)12 - AIC:199.2916791466155\n",
      "Best SARIMAX(0, 1, 1)x(1, 1, 1, 12)12 model - AIC:197.45907284450251\n",
      "                                     SARIMAX Results                                      \n",
      "==========================================================================================\n",
      "Dep. Variable:                              Sales   No. Observations:                   48\n",
      "Model:             SARIMAX(0, 1, 1)x(1, 1, 1, 12)   Log Likelihood                 -92.730\n",
      "Date:                            Thu, 17 Mar 2022   AIC                            197.459\n",
      "Time:                                    12:45:35   BIC                            203.726\n",
      "Sample:                                01-01-2011   HQIC                           198.819\n",
      "                                     - 12-01-2014                                         \n",
      "Covariance Type:                              opg                                         \n",
      "==========================================================================================\n",
      "=====================================================================================\n",
      "                        coef    std err          z      P>|z|      [0.025      0.975]\n",
      "-------------------------------------------------------------------------------------\n",
      "Marketing Expense     0.0472      0.057      0.830      0.407      -0.064       0.159\n",
      "Year                 -8.3041      8.644     -0.961      0.337     -25.246       8.638\n",
      "ma.L1                -1.0000    608.521     -0.002      0.999   -1193.679    1191.679\n",
      "ar.S.L12             -0.0479      0.097     -0.492      0.623      -0.239       0.143\n",
      "ma.S.L12              0.4361      0.748      0.583      0.560      -1.030       1.902\n",
      "sigma2              352.2734   2.14e+05      0.002      0.999    -4.2e+05    4.21e+05\n",
      "=====================================================================================\n"
     ]
    }
   ],
   "source": [
    "best_results = auto_arima(ts, X, p=range(0, 2), d=range(0, 2), q=range(0, 2),\n",
    "                         P=range(0, 2), D=range(0, 2), Q=range(0, 2))"
   ]
  },
  {
   "cell_type": "code",
   "execution_count": 206,
   "id": "98ba15ea",
   "metadata": {},
   "outputs": [],
   "source": [
    "model2 = sm.tsa.statespace.SARIMAX(ts,\n",
    "                                      exog = X,\n",
    "                                      order=(0, 1, 1),\n",
    "                                      seasonal_order=(1, 1, 1, 12),\n",
    "                                      enforce_stationarity=False,\n",
    "                                      enforce_invertibility=False).fit()"
   ]
  },
  {
   "cell_type": "code",
   "execution_count": 200,
   "id": "e9097def",
   "metadata": {},
   "outputs": [
    {
     "name": "stdout",
     "output_type": "stream",
     "text": [
      "                                     SARIMAX Results                                      \n",
      "==========================================================================================\n",
      "Dep. Variable:                              Sales   No. Observations:                   48\n",
      "Model:             SARIMAX(0, 1, 1)x(1, 1, 1, 12)   Log Likelihood                 -95.443\n",
      "Date:                            Thu, 17 Mar 2022   AIC                            200.885\n",
      "Time:                                    12:44:38   BIC                            206.108\n",
      "Sample:                                01-01-2011   HQIC                           202.019\n",
      "                                     - 12-01-2014                                         \n",
      "Covariance Type:                              opg                                         \n",
      "=====================================================================================\n",
      "                        coef    std err          z      P>|z|      [0.025      0.975]\n",
      "-------------------------------------------------------------------------------------\n",
      "Marketing Expense     0.0900      0.066      1.363      0.173      -0.039       0.219\n",
      "ma.L1                -1.0000   2560.469     -0.000      1.000   -5019.426    5017.426\n",
      "ar.S.L12             -0.1940      0.166     -1.168      0.243      -0.520       0.132\n",
      "ma.S.L12              0.3194      0.783      0.408      0.683      -1.216       1.854\n",
      "sigma2              456.5356   1.17e+06      0.000      1.000   -2.29e+06    2.29e+06\n",
      "===================================================================================\n",
      "Ljung-Box (L1) (Q):                   0.00   Jarque-Bera (JB):                 1.73\n",
      "Prob(Q):                              0.97   Prob(JB):                         0.42\n",
      "Heteroskedasticity (H):               0.81   Skew:                            -0.58\n",
      "Prob(H) (two-sided):                  0.79   Kurtosis:                         3.81\n",
      "===================================================================================\n",
      "\n",
      "Warnings:\n",
      "[1] Covariance matrix calculated using the outer product of gradients (complex-step).\n"
     ]
    }
   ],
   "source": [
    "print(model2.summary())"
   ]
  },
  {
   "cell_type": "code",
   "execution_count": 208,
   "id": "fedd5364",
   "metadata": {},
   "outputs": [],
   "source": [
    "act = df_marketting.Sales['2014-01-01':]\n",
    "pred = model2.fittedvalues['2014-01-01':]"
   ]
  },
  {
   "cell_type": "code",
   "execution_count": 209,
   "id": "1ecb69f6",
   "metadata": {},
   "outputs": [
    {
     "data": {
      "text/plain": [
       "Date\n",
       "2014-01-01    525\n",
       "2014-02-01    520\n",
       "2014-03-01    587\n",
       "2014-04-01    710\n",
       "2014-05-01    793\n",
       "2014-06-01    749\n",
       "2014-07-01    871\n",
       "2014-08-01    848\n",
       "2014-09-01    640\n",
       "2014-10-01    581\n",
       "2014-11-01    519\n",
       "2014-12-01    605\n",
       "Name: Sales, dtype: int64"
      ]
     },
     "execution_count": 209,
     "metadata": {},
     "output_type": "execute_result"
    }
   ],
   "source": [
    "act"
   ]
  },
  {
   "cell_type": "code",
   "execution_count": 210,
   "id": "67808d3a",
   "metadata": {},
   "outputs": [
    {
     "data": {
      "text/plain": [
       "Date\n",
       "2014-01-01    515.215104\n",
       "2014-02-01    522.704190\n",
       "2014-03-01    641.367156\n",
       "2014-04-01    673.800465\n",
       "2014-05-01    784.966917\n",
       "2014-06-01    737.673733\n",
       "2014-07-01    848.041883\n",
       "2014-08-01    854.606951\n",
       "2014-09-01    655.688850\n",
       "2014-10-01    582.312491\n",
       "2014-11-01    552.101434\n",
       "2014-12-01    628.979195\n",
       "dtype: float64"
      ]
     },
     "execution_count": 210,
     "metadata": {},
     "output_type": "execute_result"
    }
   ],
   "source": [
    "pred"
   ]
  },
  {
   "cell_type": "code",
   "execution_count": 211,
   "id": "5ea0e8c8",
   "metadata": {},
   "outputs": [
    {
     "name": "stdout",
     "output_type": "stream",
     "text": [
      "Training Error: 0.029752560629667274\n"
     ]
    }
   ],
   "source": [
    "print('Training Error:', np.mean(np.abs(act-pred)/act))"
   ]
  },
  {
   "cell_type": "code",
   "execution_count": 219,
   "id": "b32c2ba8",
   "metadata": {},
   "outputs": [],
   "source": [
    "X=X['2014-01-01':]"
   ]
  },
  {
   "cell_type": "code",
   "execution_count": 220,
   "id": "b1416fd7",
   "metadata": {},
   "outputs": [
    {
     "data": {
      "text/html": [
       "<div>\n",
       "<style scoped>\n",
       "    .dataframe tbody tr th:only-of-type {\n",
       "        vertical-align: middle;\n",
       "    }\n",
       "\n",
       "    .dataframe tbody tr th {\n",
       "        vertical-align: top;\n",
       "    }\n",
       "\n",
       "    .dataframe thead th {\n",
       "        text-align: right;\n",
       "    }\n",
       "</style>\n",
       "<table border=\"1\" class=\"dataframe\">\n",
       "  <thead>\n",
       "    <tr style=\"text-align: right;\">\n",
       "      <th></th>\n",
       "      <th>Marketing Expense</th>\n",
       "      <th>Year</th>\n",
       "    </tr>\n",
       "    <tr>\n",
       "      <th>Date</th>\n",
       "      <th></th>\n",
       "      <th></th>\n",
       "    </tr>\n",
       "  </thead>\n",
       "  <tbody>\n",
       "    <tr>\n",
       "      <th>2014-01-01</th>\n",
       "      <td>429.73</td>\n",
       "      <td>2014</td>\n",
       "    </tr>\n",
       "    <tr>\n",
       "      <th>2014-02-01</th>\n",
       "      <td>602.86</td>\n",
       "      <td>2014</td>\n",
       "    </tr>\n",
       "    <tr>\n",
       "      <th>2014-03-01</th>\n",
       "      <td>596.15</td>\n",
       "      <td>2014</td>\n",
       "    </tr>\n",
       "    <tr>\n",
       "      <th>2014-04-01</th>\n",
       "      <td>619.39</td>\n",
       "      <td>2014</td>\n",
       "    </tr>\n",
       "    <tr>\n",
       "      <th>2014-05-01</th>\n",
       "      <td>758.31</td>\n",
       "      <td>2014</td>\n",
       "    </tr>\n",
       "    <tr>\n",
       "      <th>2014-06-01</th>\n",
       "      <td>980.16</td>\n",
       "      <td>2014</td>\n",
       "    </tr>\n",
       "    <tr>\n",
       "      <th>2014-07-01</th>\n",
       "      <td>905.10</td>\n",
       "      <td>2014</td>\n",
       "    </tr>\n",
       "    <tr>\n",
       "      <th>2014-08-01</th>\n",
       "      <td>784.62</td>\n",
       "      <td>2014</td>\n",
       "    </tr>\n",
       "    <tr>\n",
       "      <th>2014-09-01</th>\n",
       "      <td>718.98</td>\n",
       "      <td>2014</td>\n",
       "    </tr>\n",
       "    <tr>\n",
       "      <th>2014-10-01</th>\n",
       "      <td>570.30</td>\n",
       "      <td>2014</td>\n",
       "    </tr>\n",
       "    <tr>\n",
       "      <th>2014-11-01</th>\n",
       "      <td>527.60</td>\n",
       "      <td>2014</td>\n",
       "    </tr>\n",
       "    <tr>\n",
       "      <th>2014-12-01</th>\n",
       "      <td>559.75</td>\n",
       "      <td>2014</td>\n",
       "    </tr>\n",
       "  </tbody>\n",
       "</table>\n",
       "</div>"
      ],
      "text/plain": [
       "            Marketing Expense  Year\n",
       "Date                               \n",
       "2014-01-01             429.73  2014\n",
       "2014-02-01             602.86  2014\n",
       "2014-03-01             596.15  2014\n",
       "2014-04-01             619.39  2014\n",
       "2014-05-01             758.31  2014\n",
       "2014-06-01             980.16  2014\n",
       "2014-07-01             905.10  2014\n",
       "2014-08-01             784.62  2014\n",
       "2014-09-01             718.98  2014\n",
       "2014-10-01             570.30  2014\n",
       "2014-11-01             527.60  2014\n",
       "2014-12-01             559.75  2014"
      ]
     },
     "execution_count": 220,
     "metadata": {},
     "output_type": "execute_result"
    }
   ],
   "source": [
    "X"
   ]
  },
  {
   "cell_type": "code",
   "execution_count": 223,
   "id": "6b9e5f02",
   "metadata": {},
   "outputs": [],
   "source": [
    "f_cast=model2.forecast(steps=12,  exog=X)"
   ]
  },
  {
   "cell_type": "code",
   "execution_count": 224,
   "id": "5d84667e",
   "metadata": {},
   "outputs": [
    {
     "data": {
      "text/plain": [
       "[<matplotlib.lines.Line2D at 0x1860edc7280>]"
      ]
     },
     "execution_count": 224,
     "metadata": {},
     "output_type": "execute_result"
    },
    {
     "data": {
      "image/png": "[encoded data removed]",
      "text/plain": [
       "<Figure size 432x288 with 1 Axes>"
      ]
     },
     "metadata": {
      "needs_background": "light"
     },
     "output_type": "display_data"
    }
   ],
   "source": [
    "import matplotlib.pyplot as plt\n",
    "plt.plot(ts, '-', label='obs')\n",
    "plt.plot(f_cast, '-', label=f_cast)"
   ]
  },
  {
   "cell_type": "code",
   "execution_count": null,
   "id": "38301615",
   "metadata": {},
   "outputs": [],
   "source": []
  },
  {
   "cell_type": "code",
   "execution_count": null,
   "id": "92925f0c",
   "metadata": {},
   "outputs": [],
   "source": []
  },
  {
   "cell_type": "code",
   "execution_count": null,
   "id": "5fc5fd48",
   "metadata": {},
   "outputs": [],
   "source": []
  }
 ],
 "metadata": {
  "kernelspec": {
   "display_name": "Python 3 (ipykernel)",
   "language": "python",
   "name": "python3"
  },
  "language_info": {
   "codemirror_mode": {
    "name": "ipython",
    "version": 3
   },
   "file_extension": ".py",
   "mimetype": "text/x-python",
   "name": "python",
   "nbconvert_exporter": "python",
   "pygments_lexer": "ipython3",
   "version": "3.9.7"
  }
 },
 "nbformat": 4,
 "nbformat_minor": 5
}
